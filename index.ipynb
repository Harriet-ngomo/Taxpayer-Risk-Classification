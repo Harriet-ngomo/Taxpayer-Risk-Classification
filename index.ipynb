{
 "cells": [
  {
   "cell_type": "markdown",
   "id": "305f9f62",
   "metadata": {},
   "source": [
    "# Taxpayer Risk Classification Project\n",
    "\n",
    "## Business Problem\n",
    "Tax authorities face significant challenges in efficiently identifying taxpayers who are at high risk of non-compliance or tax evasion. Without accurate risk profiling, audits and enforcement actions may be misallocated, leading to revenue losses and wasted resources. There is a need for a data-driven approach to classify taxpayers based on their risk levels, enabling focused compliance efforts.\n",
    "\n",
    "## Stakeholders\n",
    "| Stakeholder             | Role / Interest                                                                                 |\n",
    "|------------------------|------------------------------------------------------------------------------------------------|\n",
    "| Tax Authority / Revenue Service | Responsible for tax collection, compliance enforcement, and overall revenue maximization.    |\n",
    "| Audit Teams             | Use risk classifications to prioritize audits and investigations for efficient resource use.   |\n",
    "| Policy Makers           | Use insights from the model to improve tax regulations and compliance strategies.               |\n",
    "| Taxpayers               | Subject to audits and compliance monitoring; directly impacted by classification outcomes.     |\n",
    "| Data Analysts / Data Scientists | Develop, validate, and maintain predictive models, providing actionable insights to stakeholders. |\n",
    "\n",
    "\n",
    "## Business Objectives\n",
    "1. **How can we improve audit efficiency by prioritizing audits on high-risk taxpayers to reduce costs and increase revenue recovery?**\n",
    "\n",
    "2. **How can we develop a predictive model to categorize taxpayers by risk level (Low, Medium, High) for ongoing compliance monitoring and early intervention?**\n",
    "\n",
    "3. **How can we proactively identify potential non-compliant taxpayers to reduce tax evasion and maximize government revenue?**\n",
    "\n",
    "## Analysis Objectives\n",
    "- **How can we build and validate a machine learning classification model that accurately predicts the risk label of taxpayers based on their financial and behavioral features?**\n",
    "\n",
    "- **Which features (e.g., revenue, expenses, late filings) most significantly influence the taxpayer risk classification and how can these insights inform targeted policy actions?**\n",
    "\n",
    "## Data  Description\n",
    "| Column Name          | Description                                                                                       | Data Type              |\n",
    "|----------------------|---------------------------------------------------------------------------------------------------|------------------------|\n",
    "| Taxpayer_ID          | Unique identifier for each taxpayer                                                               | Categorical (ID)       |\n",
    "| Revenue              | Total revenue reported by the taxpayer over a specific period                                     | Numeric (Continuous)   |\n",
    "| Expenses             | Total expenses declared by the taxpayer                                                           | Numeric (Continuous)   |\n",
    "| Profit               | Net profit calculated as Revenue minus Expenses                                                   | Numeric (Continuous)   |\n",
    "| Industry_Type        | Sector in which the taxpayer operates (e.g., Retail, Manufacturing)                              | Categorical            |\n",
    "| Business_Age         | Number of years the business has been operating                                                   | Numeric (Discrete)     |\n",
    "| Late_Filings         | Number of late tax return submissions                                                              | Numeric (Discrete)     |\n",
    "| Audit_History        | Count of previous audits conducted on the taxpayer                                                | Numeric (Discrete)     |\n",
    "| Payment_Delays       | Number of instances where tax payments were delayed                                               | Numeric (Discrete)     |\n",
    "| Employee_Count       | Number of employees reported by the business                                                      | Numeric (Discrete)     |\n",
    "| Compliance_Score     | Internal score indicating taxpayer’s level of compliance (e.g., 0–100 scale)                      | Numeric (Continuous)   |\n",
    "| Region               | Geographical location or jurisdiction of the taxpayer                                             | Categorical            |\n",
    "| Risk_Label           | Target variable: classification of the taxpayer’s compliance risk (Low, Medium, High)            | Categorical (Target)   |\n",
    "\n",
    "\n",
    "\n",
    "## Prediction Target\n",
    "We are predicting the **Taxpayer Risk Label**, which categorizes taxpayers into different risk levels **Low**, **Medium**, or **High** risk of non-compliance or tax evasion based on their financial data and compliance behavior. This classification helps tax authorities prioritize audits and enforcement actions effectively.\n"
   ]
  },
  {
   "cell_type": "markdown",
   "id": "2aee7611",
   "metadata": {},
   "source": [
    "# Import modules & packages"
   ]
  },
  {
   "cell_type": "code",
   "execution_count": 2,
   "id": "05b5db8f",
   "metadata": {},
   "outputs": [],
   "source": [
    "# Data manipulation \n",
    "import pandas as pd \n",
    "import numpy as np \n",
    "\n",
    "# Data visualization\n",
    "import seaborn as sns \n",
    "import matplotlib.pyplot as plt \n",
    "\n",
    "# Modeling\n",
    "from sklearn.model_selection import train_test_split,GridSearchCV\n",
    "from imblearn.over_sampling import SMOTE #SMOTE technique to deal with unbalanced data problem\n",
    "from sklearn.metrics import accuracy_score,f1_score,recall_score,precision_score,confusion_matrix,roc_curve,auc,classification_report # performance metrics\n",
    "from sklearn.preprocessing import StandardScaler# to scale the numeric features\n",
    "from sklearn.preprocessing import LabelEncoder,OneHotEncoder,StandardScaler # to encode binary features\n",
    "from scipy import stats\n",
    "\n",
    "# Algorithms for supervised learning methods\n",
    "from sklearn.tree import DecisionTreeClassifier,plot_tree\n",
    "from sklearn.linear_model import LogisticRegression\n",
    "from sklearn.metrics import ConfusionMatrixDisplay\n",
    "\n",
    "\n",
    "# Set the style to \"darkgrid\" and \"ggplot\"\n",
    "sns.set_style(\"dark\")"
   ]
  },
  {
   "cell_type": "code",
   "execution_count": 3,
   "id": "b9b7e832",
   "metadata": {},
   "outputs": [
    {
     "ename": "FileNotFoundError",
     "evalue": "[Errno 2] No such file or directory: 'C:\\\\Users\\\\Harriet\\\\Downloads\\\\New folder (2)\\\\tax_risk_dataset.csv'",
     "output_type": "error",
     "traceback": [
      "\u001b[1;31m---------------------------------------------------------------------------\u001b[0m",
      "\u001b[1;31mFileNotFoundError\u001b[0m                         Traceback (most recent call last)",
      "\u001b[1;32m<ipython-input-3-ce2a2dcc3711>\u001b[0m in \u001b[0;36m<module>\u001b[1;34m\u001b[0m\n\u001b[1;32m----> 1\u001b[1;33m \u001b[0mdata\u001b[0m \u001b[1;33m=\u001b[0m \u001b[0mpd\u001b[0m\u001b[1;33m.\u001b[0m\u001b[0mread_csv\u001b[0m\u001b[1;33m(\u001b[0m\u001b[1;34mr\"C:\\Users\\Harriet\\Downloads\\New folder (2)\\tax_risk_dataset.csv\"\u001b[0m\u001b[1;33m)\u001b[0m\u001b[1;33m\u001b[0m\u001b[1;33m\u001b[0m\u001b[0m\n\u001b[0m\u001b[0;32m      2\u001b[0m \u001b[0mdata\u001b[0m\u001b[1;33m.\u001b[0m\u001b[0mhead\u001b[0m\u001b[1;33m(\u001b[0m\u001b[1;33m)\u001b[0m\u001b[1;33m\u001b[0m\u001b[1;33m\u001b[0m\u001b[0m\n",
      "\u001b[1;32mc:\\Users\\Harriet\\anaconda3\\envs\\learn-env\\lib\\site-packages\\pandas\\io\\parsers.py\u001b[0m in \u001b[0;36mread_csv\u001b[1;34m(filepath_or_buffer, sep, delimiter, header, names, index_col, usecols, squeeze, prefix, mangle_dupe_cols, dtype, engine, converters, true_values, false_values, skipinitialspace, skiprows, skipfooter, nrows, na_values, keep_default_na, na_filter, verbose, skip_blank_lines, parse_dates, infer_datetime_format, keep_date_col, date_parser, dayfirst, cache_dates, iterator, chunksize, compression, thousands, decimal, lineterminator, quotechar, quoting, doublequote, escapechar, comment, encoding, dialect, error_bad_lines, warn_bad_lines, delim_whitespace, low_memory, memory_map, float_precision)\u001b[0m\n\u001b[0;32m    684\u001b[0m     )\n\u001b[0;32m    685\u001b[0m \u001b[1;33m\u001b[0m\u001b[0m\n\u001b[1;32m--> 686\u001b[1;33m     \u001b[1;32mreturn\u001b[0m \u001b[0m_read\u001b[0m\u001b[1;33m(\u001b[0m\u001b[0mfilepath_or_buffer\u001b[0m\u001b[1;33m,\u001b[0m \u001b[0mkwds\u001b[0m\u001b[1;33m)\u001b[0m\u001b[1;33m\u001b[0m\u001b[1;33m\u001b[0m\u001b[0m\n\u001b[0m\u001b[0;32m    687\u001b[0m \u001b[1;33m\u001b[0m\u001b[0m\n\u001b[0;32m    688\u001b[0m \u001b[1;33m\u001b[0m\u001b[0m\n",
      "\u001b[1;32mc:\\Users\\Harriet\\anaconda3\\envs\\learn-env\\lib\\site-packages\\pandas\\io\\parsers.py\u001b[0m in \u001b[0;36m_read\u001b[1;34m(filepath_or_buffer, kwds)\u001b[0m\n\u001b[0;32m    450\u001b[0m \u001b[1;33m\u001b[0m\u001b[0m\n\u001b[0;32m    451\u001b[0m     \u001b[1;31m# Create the parser.\u001b[0m\u001b[1;33m\u001b[0m\u001b[1;33m\u001b[0m\u001b[1;33m\u001b[0m\u001b[0m\n\u001b[1;32m--> 452\u001b[1;33m     \u001b[0mparser\u001b[0m \u001b[1;33m=\u001b[0m \u001b[0mTextFileReader\u001b[0m\u001b[1;33m(\u001b[0m\u001b[0mfp_or_buf\u001b[0m\u001b[1;33m,\u001b[0m \u001b[1;33m**\u001b[0m\u001b[0mkwds\u001b[0m\u001b[1;33m)\u001b[0m\u001b[1;33m\u001b[0m\u001b[1;33m\u001b[0m\u001b[0m\n\u001b[0m\u001b[0;32m    453\u001b[0m \u001b[1;33m\u001b[0m\u001b[0m\n\u001b[0;32m    454\u001b[0m     \u001b[1;32mif\u001b[0m \u001b[0mchunksize\u001b[0m \u001b[1;32mor\u001b[0m \u001b[0miterator\u001b[0m\u001b[1;33m:\u001b[0m\u001b[1;33m\u001b[0m\u001b[1;33m\u001b[0m\u001b[0m\n",
      "\u001b[1;32mc:\\Users\\Harriet\\anaconda3\\envs\\learn-env\\lib\\site-packages\\pandas\\io\\parsers.py\u001b[0m in \u001b[0;36m__init__\u001b[1;34m(self, f, engine, **kwds)\u001b[0m\n\u001b[0;32m    944\u001b[0m             \u001b[0mself\u001b[0m\u001b[1;33m.\u001b[0m\u001b[0moptions\u001b[0m\u001b[1;33m[\u001b[0m\u001b[1;34m\"has_index_names\"\u001b[0m\u001b[1;33m]\u001b[0m \u001b[1;33m=\u001b[0m \u001b[0mkwds\u001b[0m\u001b[1;33m[\u001b[0m\u001b[1;34m\"has_index_names\"\u001b[0m\u001b[1;33m]\u001b[0m\u001b[1;33m\u001b[0m\u001b[1;33m\u001b[0m\u001b[0m\n\u001b[0;32m    945\u001b[0m \u001b[1;33m\u001b[0m\u001b[0m\n\u001b[1;32m--> 946\u001b[1;33m         \u001b[0mself\u001b[0m\u001b[1;33m.\u001b[0m\u001b[0m_make_engine\u001b[0m\u001b[1;33m(\u001b[0m\u001b[0mself\u001b[0m\u001b[1;33m.\u001b[0m\u001b[0mengine\u001b[0m\u001b[1;33m)\u001b[0m\u001b[1;33m\u001b[0m\u001b[1;33m\u001b[0m\u001b[0m\n\u001b[0m\u001b[0;32m    947\u001b[0m \u001b[1;33m\u001b[0m\u001b[0m\n\u001b[0;32m    948\u001b[0m     \u001b[1;32mdef\u001b[0m \u001b[0mclose\u001b[0m\u001b[1;33m(\u001b[0m\u001b[0mself\u001b[0m\u001b[1;33m)\u001b[0m\u001b[1;33m:\u001b[0m\u001b[1;33m\u001b[0m\u001b[1;33m\u001b[0m\u001b[0m\n",
      "\u001b[1;32mc:\\Users\\Harriet\\anaconda3\\envs\\learn-env\\lib\\site-packages\\pandas\\io\\parsers.py\u001b[0m in \u001b[0;36m_make_engine\u001b[1;34m(self, engine)\u001b[0m\n\u001b[0;32m   1176\u001b[0m     \u001b[1;32mdef\u001b[0m \u001b[0m_make_engine\u001b[0m\u001b[1;33m(\u001b[0m\u001b[0mself\u001b[0m\u001b[1;33m,\u001b[0m \u001b[0mengine\u001b[0m\u001b[1;33m=\u001b[0m\u001b[1;34m\"c\"\u001b[0m\u001b[1;33m)\u001b[0m\u001b[1;33m:\u001b[0m\u001b[1;33m\u001b[0m\u001b[1;33m\u001b[0m\u001b[0m\n\u001b[0;32m   1177\u001b[0m         \u001b[1;32mif\u001b[0m \u001b[0mengine\u001b[0m \u001b[1;33m==\u001b[0m \u001b[1;34m\"c\"\u001b[0m\u001b[1;33m:\u001b[0m\u001b[1;33m\u001b[0m\u001b[1;33m\u001b[0m\u001b[0m\n\u001b[1;32m-> 1178\u001b[1;33m             \u001b[0mself\u001b[0m\u001b[1;33m.\u001b[0m\u001b[0m_engine\u001b[0m \u001b[1;33m=\u001b[0m \u001b[0mCParserWrapper\u001b[0m\u001b[1;33m(\u001b[0m\u001b[0mself\u001b[0m\u001b[1;33m.\u001b[0m\u001b[0mf\u001b[0m\u001b[1;33m,\u001b[0m \u001b[1;33m**\u001b[0m\u001b[0mself\u001b[0m\u001b[1;33m.\u001b[0m\u001b[0moptions\u001b[0m\u001b[1;33m)\u001b[0m\u001b[1;33m\u001b[0m\u001b[1;33m\u001b[0m\u001b[0m\n\u001b[0m\u001b[0;32m   1179\u001b[0m         \u001b[1;32melse\u001b[0m\u001b[1;33m:\u001b[0m\u001b[1;33m\u001b[0m\u001b[1;33m\u001b[0m\u001b[0m\n\u001b[0;32m   1180\u001b[0m             \u001b[1;32mif\u001b[0m \u001b[0mengine\u001b[0m \u001b[1;33m==\u001b[0m \u001b[1;34m\"python\"\u001b[0m\u001b[1;33m:\u001b[0m\u001b[1;33m\u001b[0m\u001b[1;33m\u001b[0m\u001b[0m\n",
      "\u001b[1;32mc:\\Users\\Harriet\\anaconda3\\envs\\learn-env\\lib\\site-packages\\pandas\\io\\parsers.py\u001b[0m in \u001b[0;36m__init__\u001b[1;34m(self, src, **kwds)\u001b[0m\n\u001b[0;32m   2006\u001b[0m         \u001b[0mkwds\u001b[0m\u001b[1;33m[\u001b[0m\u001b[1;34m\"usecols\"\u001b[0m\u001b[1;33m]\u001b[0m \u001b[1;33m=\u001b[0m \u001b[0mself\u001b[0m\u001b[1;33m.\u001b[0m\u001b[0musecols\u001b[0m\u001b[1;33m\u001b[0m\u001b[1;33m\u001b[0m\u001b[0m\n\u001b[0;32m   2007\u001b[0m \u001b[1;33m\u001b[0m\u001b[0m\n\u001b[1;32m-> 2008\u001b[1;33m         \u001b[0mself\u001b[0m\u001b[1;33m.\u001b[0m\u001b[0m_reader\u001b[0m \u001b[1;33m=\u001b[0m \u001b[0mparsers\u001b[0m\u001b[1;33m.\u001b[0m\u001b[0mTextReader\u001b[0m\u001b[1;33m(\u001b[0m\u001b[0msrc\u001b[0m\u001b[1;33m,\u001b[0m \u001b[1;33m**\u001b[0m\u001b[0mkwds\u001b[0m\u001b[1;33m)\u001b[0m\u001b[1;33m\u001b[0m\u001b[1;33m\u001b[0m\u001b[0m\n\u001b[0m\u001b[0;32m   2009\u001b[0m         \u001b[0mself\u001b[0m\u001b[1;33m.\u001b[0m\u001b[0munnamed_cols\u001b[0m \u001b[1;33m=\u001b[0m \u001b[0mself\u001b[0m\u001b[1;33m.\u001b[0m\u001b[0m_reader\u001b[0m\u001b[1;33m.\u001b[0m\u001b[0munnamed_cols\u001b[0m\u001b[1;33m\u001b[0m\u001b[1;33m\u001b[0m\u001b[0m\n\u001b[0;32m   2010\u001b[0m \u001b[1;33m\u001b[0m\u001b[0m\n",
      "\u001b[1;32mpandas\\_libs\\parsers.pyx\u001b[0m in \u001b[0;36mpandas._libs.parsers.TextReader.__cinit__\u001b[1;34m()\u001b[0m\n",
      "\u001b[1;32mpandas\\_libs\\parsers.pyx\u001b[0m in \u001b[0;36mpandas._libs.parsers.TextReader._setup_parser_source\u001b[1;34m()\u001b[0m\n",
      "\u001b[1;31mFileNotFoundError\u001b[0m: [Errno 2] No such file or directory: 'C:\\\\Users\\\\Harriet\\\\Downloads\\\\New folder (2)\\\\tax_risk_dataset.csv'"
     ]
    }
   ],
   "source": [
    "\n",
    "data = pd.read_csv(r\"C:\\Users\\Harriet\\Downloads\\New folder (2)\\tax_risk_dataset.csv\")\n",
    "data.head()"
   ]
  },
  {
   "cell_type": "markdown",
   "id": "58100c8b",
   "metadata": {},
   "source": [
    "# EXPLORATORY DATA ANALYSIS"
   ]
  },
  {
   "cell_type": "markdown",
   "id": "85f16b7b",
   "metadata": {},
   "source": [
    "# DATA INSPECTION"
   ]
  },
  {
   "cell_type": "code",
   "execution_count": null,
   "id": "58fe2b5f",
   "metadata": {},
   "outputs": [
    {
     "name": "stdout",
     "output_type": "stream",
     "text": [
      "\n",
      " Column names:\n",
      "['Taxpayer_ID', 'Revenue', 'Expenses', 'Tax_Liability', 'Tax_Paid', 'Late_Filings', 'Compliance_Violations', 'Industry', 'Profit', 'Tax_Compliance_Ratio', 'Audit_Findings', 'Audit_to_Tax_Ratio', 'Risk_Label']\n",
      "\n",
      " Data types and non-null counts:\n",
      "<class 'pandas.core.frame.DataFrame'>\n",
      "RangeIndex: 1000 entries, 0 to 999\n",
      "Data columns (total 13 columns):\n",
      " #   Column                 Non-Null Count  Dtype  \n",
      "---  ------                 --------------  -----  \n",
      " 0   Taxpayer_ID            1000 non-null   int64  \n",
      " 1   Revenue                1000 non-null   float64\n",
      " 2   Expenses               1000 non-null   float64\n",
      " 3   Tax_Liability          1000 non-null   float64\n",
      " 4   Tax_Paid               1000 non-null   float64\n",
      " 5   Late_Filings           1000 non-null   int64  \n",
      " 6   Compliance_Violations  1000 non-null   int64  \n",
      " 7   Industry               1000 non-null   object \n",
      " 8   Profit                 1000 non-null   float64\n",
      " 9   Tax_Compliance_Ratio   1000 non-null   float64\n",
      " 10  Audit_Findings         1000 non-null   int64  \n",
      " 11  Audit_to_Tax_Ratio     1000 non-null   float64\n",
      " 12  Risk_Label             1000 non-null   object \n",
      "dtypes: float64(7), int64(4), object(2)\n",
      "memory usage: 101.7+ KB\n",
      "None\n",
      "\n",
      " Summary statistics (numerical columns):\n",
      "       Taxpayer_ID       Revenue      Expenses  Tax_Liability      Tax_Paid  \\\n",
      "count  1000.000000  1.000000e+03  1.000000e+03    1000.000000   1000.000000   \n",
      "mean    500.500000  1.005800e+06  7.141672e+05   50087.513200  47812.807910   \n",
      "std     288.819436  2.937648e+05  1.994909e+05   14751.814482  10271.325437   \n",
      "min       1.000000  2.761980e+04  1.119223e+05    4707.320000  18705.510000   \n",
      "25%     250.750000  8.057229e+05  5.787517e+05   40280.002500  40625.797500   \n",
      "50%     500.500000  1.007590e+06  7.126154e+05   49996.240000  48001.845000   \n",
      "75%     750.250000  1.194383e+06  8.457764e+05   59913.732500  54669.455000   \n",
      "max    1000.000000  2.155819e+06  1.338622e+06  108893.570000  80430.930000   \n",
      "\n",
      "       Late_Filings  Compliance_Violations        Profit  \\\n",
      "count   1000.000000            1000.000000  1.000000e+03   \n",
      "mean       2.029000               1.033000  2.916324e+05   \n",
      "std        1.415685               0.812756  3.617036e+05   \n",
      "min        0.000000               0.000000 -7.801314e+05   \n",
      "25%        1.000000               0.000000  4.100442e+04   \n",
      "50%        2.000000               1.000000  2.856810e+05   \n",
      "75%        3.000000               2.000000  5.514364e+05   \n",
      "max        4.000000               2.000000  1.401163e+06   \n",
      "\n",
      "       Tax_Compliance_Ratio  Audit_Findings  Audit_to_Tax_Ratio  \n",
      "count           1000.000000     1000.000000              1000.0  \n",
      "mean               1.077180        4.396000                 0.0  \n",
      "std                0.617086        2.927414                 0.0  \n",
      "min                0.240000        0.000000                 0.0  \n",
      "25%                0.767500        2.000000                 0.0  \n",
      "50%                0.970000        4.000000                 0.0  \n",
      "75%                1.210000        7.000000                 0.0  \n",
      "max               10.190000        9.000000                 0.0  \n",
      "\n",
      " Preview of the first 5 rows:\n",
      "   Taxpayer_ID     Revenue   Expenses  Tax_Liability  Tax_Paid  Late_Filings  \\\n",
      "0            1  1149014.25  979871.09       39872.33  28921.92             2   \n",
      "1            2   958520.71  884926.74       47832.22  39396.15             1   \n",
      "2            3  1194306.56  711926.07       38113.70  43863.94             4   \n",
      "3            4  1456908.96  570612.64       45380.58  66876.88             4   \n",
      "4            5   929753.99  839644.66       21595.78  53565.53             0   \n",
      "\n",
      "   Compliance_Violations       Industry     Profit  Tax_Compliance_Ratio  \\\n",
      "0                      1        Finance  169143.16                  0.73   \n",
      "1                      1         Retail   73593.97                  0.82   \n",
      "2                      0  Manufacturing  482380.49                  1.15   \n",
      "3                      2        Finance  886296.32                  1.47   \n",
      "4                      0           Tech   90109.33                  2.48   \n",
      "\n",
      "   Audit_Findings  Audit_to_Tax_Ratio Risk_Label  \n",
      "0               0                 0.0       High  \n",
      "1               0                 0.0     Medium  \n",
      "2               3                 0.0       High  \n",
      "3               1                 0.0       High  \n",
      "4               2                 0.0        Low  \n",
      "\n",
      " Preview rows and columns:\n",
      "(1000, 13)\n"
     ]
    }
   ],
   "source": [
    "print(\"\\n Column names:\")\n",
    "print(data.columns.tolist())\n",
    "\n",
    "print(\"\\n Data types and non-null counts:\")\n",
    "print(data.info())\n",
    "\n",
    "print(\"\\n Summary statistics (numerical columns):\")\n",
    "print(data.describe())\n",
    "\n",
    "print(\"\\n Preview of the first 5 rows:\")\n",
    "print(data.head())\n",
    "\n",
    "print(\"\\n Preview rows and columns:\")\n",
    "print(data.shape)"
   ]
  },
  {
   "cell_type": "code",
   "execution_count": null,
   "id": "3fb10b88",
   "metadata": {},
   "outputs": [],
   "source": [
    "# hello"
   ]
  },
  {
   "cell_type": "code",
   "execution_count": null,
   "id": "f65004c6",
   "metadata": {},
   "outputs": [],
   "source": []
  },
  {
   "cell_type": "code",
   "execution_count": null,
   "id": "7d76660d",
   "metadata": {},
   "outputs": [],
   "source": []
  },
  {
   "cell_type": "code",
   "execution_count": null,
   "id": "4c04e462",
   "metadata": {},
   "outputs": [],
   "source": []
  },
  {
   "cell_type": "code",
   "execution_count": null,
   "id": "de759b2c",
   "metadata": {},
   "outputs": [],
   "source": []
  }
 ],
 "metadata": {
  "kernelspec": {
   "display_name": "learn-env",
   "language": "python",
   "name": "python3"
  },
  "language_info": {
   "codemirror_mode": {
    "name": "ipython",
    "version": 3
   },
   "file_extension": ".py",
   "mimetype": "text/x-python",
   "name": "python",
   "nbconvert_exporter": "python",
   "pygments_lexer": "ipython3",
   "version": "3.8.5"
  }
 },
 "nbformat": 4,
 "nbformat_minor": 5
}
