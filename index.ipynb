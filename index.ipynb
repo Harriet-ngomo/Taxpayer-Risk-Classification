{
 "cells": [
  {
   "cell_type": "markdown",
   "metadata": {},
   "source": [
    "# Taxpayer Risk Classification Project\n",
    "\n",
    "## Project Overview\n",
    "\n",
    "In many countries, tax evasion and non-compliance significantly reduce government revenue needed for critical services like education, infrastructure, and healthcare. While some taxpayers follow rules diligently, others exploit system loopholes or avoid taxes altogether.\n",
    "Manual audit selection methods often depend on human judgment and limited resources, leading to inefficiencies and unfair targeting. However, by leveraging taxpayer data  such as revenue, expenses, filing behavior, and industry machine learning can help authorities flag potential high risk taxpayers more accurately. This enables smarter enforcement, early detection of risk, and a fairer tax ecosystem.\n",
    "\n",
    "---\n",
    "\n",
    "## Business Problem\n",
    "Tax authorities face significant challenges in efficiently identifying taxpayers who are at high risk of non compliance or tax evasion. Without accurate risk profiling, audits and enforcement actions may be misallocated, leading to revenue losses and wasted resources. There is a need for a data driven approach to classify taxpayers based on their risk levels, enabling focused compliance efforts.\n",
    "The challenge is to determine whether this existing taxpayer data can be used to **accurately classify taxpayers as high or low risk**, enabling smarter audit selection, reducing the burden on compliant taxpayers, and improving overall compliance.\n",
    "\n",
    "> **How can we leverage taxpayer financial and behavioral data to automatically and accurately classify taxpayers by risk level, in order to support targeted audits, enhance compliance monitoring, and increase tax revenue efficiency?**\n",
    "\n",
    "---\n",
    "\n",
    "## Stakeholders\n",
    "| Stakeholder             | Role / Interest                                                                                 |\n",
    "|------------------------|------------------------------------------------------------------------------------------------|\n",
    "| **Tax Authority / Revenue Service**| Responsible for tax collection, compliance enforcement, and overall revenue maximization.    |\n",
    "| **Audit Teams**            | Use risk classifications to prioritize audits and investigations for efficient resource use.   |\n",
    "| **Policy Makers**           | Use insights from the model to improve tax regulations and compliance strategies.               |\n",
    "| **Taxpayers**               | Subject to audits and compliance monitoring; directly impacted by classification outcomes.     |\n",
    "| **Data Analysts / Data Scientists** | Develop, validate, and maintain predictive models, providing actionable insights to stakeholders |\n",
    "\n",
    "---\n",
    "\n",
    "## Business Objectives\n",
    "1. **How can we improve audit efficiency by prioritizing audits on high-risk taxpayers to reduce costs and increase revenue recovery?**\n",
    "\n",
    "2. **How can we develop a predictive model to categorize taxpayers by risk level (Low, Medium, High) for ongoing compliance monitoring and early intervention?**\n",
    "\n",
    "3. **How can we proactively identify potential non-compliant taxpayers to reduce tax evasion and maximize government revenue?**\n",
    "\n",
    "---\n",
    "\n",
    "## Analysis Objectives\n",
    "- **How can we build and validate a machine learning classification model that accurately predicts the risk label of taxpayers based on their financial and behavioral features?**\n",
    "\n",
    "- **Which features (e.g., revenue, expenses, late filings) most significantly influence the taxpayer risk classification and how can these insights inform targeted policy actions?**\n",
    "\n",
    "---\n",
    "## Data Understanding\n",
    "\n",
    "We will use taxpayer financial and behavioral data to build a predictive model. The dataset includes records of individual and business taxpayers, featuring approximately **1000** observations and **13** columns.\n",
    "\n",
    "### Data  Description\n",
    "| Column Name          | Description                                                                                       | Data Type              |\n",
    "|----------------------|---------------------------------------------------------------------------------------------------|------------------------|\n",
    "| `Taxpayer_ID`          | Unique identifier for each taxpayer                                                               | Categorical (ID)       |\n",
    "| `Revenue`              | Total revenue reported by the taxpayer over a specific period                                     | Numeric (Continuous)   |\n",
    "| `Expenses`            | Total expenses declared by the taxpayer                                                           | Numeric (Continuous)   |\n",
    "| `Profit`              | Net profit calculated as Revenue minus Expenses                                                   | Numeric (Continuous)   |\n",
    "| `Industry_Type`        | Sector in which the taxpayer operates (e.g., Retail, Manufacturing)                              | Categorical            |\n",
    "| `Business_Age`        | Number of years the business has been operating                                                   | Numeric (Discrete)     |\n",
    "| `Late_Filings`        | Number of late tax return submissions                                                              | Numeric (Discrete)     |\n",
    "| `Audit_History`        | Count of previous audits conducted on the taxpayer                                                | Numeric (Discrete)     |\n",
    "| `Payment_Delays`       | Number of instances where tax payments were delayed                                               | Numeric (Discrete)     |\n",
    "| `Employee_Count`      | Number of employees reported by the business                                                      | Numeric (Discrete)     |\n",
    "| `Compliance_Score`     | Internal score indicating taxpayer’s level of compliance (e.g., 0–100 scale)                      | Numeric (Continuous)   |\n",
    "| `Region`               | Geographical location or jurisdiction of the taxpayer                                             | Categorical            |\n",
    "| `Risk_Label`         | Target variable: classification of the taxpayer’s compliance risk (Low, Medium, High)            | Categorical (Target)   |\n",
    "\n",
    "\n",
    "\n",
    "### Data Overview\n",
    "\n",
    "Key features in the dataset include:\n",
    "\n",
    "- **Demographics** – Taxpayer ID, age, industry, location.\n",
    "- **Financial Data** – Reported revenue, deductible expenses, net income.\n",
    "- **Behavioral Data** – Filing frequency, past audits, late submissions, and penalties.\n",
    "- **Risk Labels** – Historical classification as high, medium, or low risk (target variable).\n",
    "\n",
    "### Data Exploration Approach\n",
    "\n",
    "To extract actionable insights and ensure data quality, we will:\n",
    "\n",
    "- Load and inspect the dataset to understand its structure and feature types\n",
    "- Handle missing values through imputation or removal depending on the nature and distribution\n",
    "- Explore relationships between taxpayer behavior and risk level\n",
    "- Visualize trends, outliers, and class imbalance (if any) before modeling\n",
    "\n",
    "\n",
    "## Prediction Target\n",
    "We are predicting the **Taxpayer Risk Label**, which categorizes taxpayers into different risk levels **Low**, **Medium**, or **High** risk of non-compliance or tax evasion based on their financial data and compliance behavior. This classification helps tax authorities prioritize audits and enforcement actions effectively\n"
   ]
  },
  {
   "cell_type": "markdown",
   "metadata": {},
   "source": [
    "# Import modules & packages"
   ]
  },
  {
   "cell_type": "code",
   "execution_count": 1,
   "metadata": {},
   "outputs": [],
   "source": [
    "# Data manipulation \n",
    "import pandas as pd \n",
    "import numpy as np \n",
    "\n",
    "# Data visualization\n",
    "import seaborn as sns \n",
    "import matplotlib.pyplot as plt \n",
    "\n",
    "# Modeling\n",
    "from sklearn.model_selection import train_test_split,GridSearchCV\n",
    "from imblearn.over_sampling import SMOTE #SMOTE technique to deal with unbalanced data problem\n",
    "from sklearn.metrics import accuracy_score,f1_score,recall_score,precision_score,confusion_matrix,roc_curve,auc,classification_report # performance metrics\n",
    "from sklearn.preprocessing import StandardScaler# to scale the numeric features\n",
    "from sklearn.preprocessing import LabelEncoder,OneHotEncoder,StandardScaler # to encode binary features\n",
    "from scipy import stats\n",
    "\n",
    "# Algorithms for supervised learning methods\n",
    "from sklearn.tree import DecisionTreeClassifier,plot_tree\n",
    "from sklearn.linear_model import LogisticRegression\n",
    "from sklearn.metrics import ConfusionMatrixDisplay\n",
    "\n",
    "\n",
    "# Set the style to \"darkgrid\" and \"ggplot\"\n",
    "sns.set_style(\"dark\")"
   ]
  },
  {
   "cell_type": "markdown",
   "metadata": {},
   "source": [
    "# Load Dataset"
   ]
  },
  {
   "cell_type": "code",
   "execution_count": 2,
   "metadata": {},
   "outputs": [
    {
     "data": {
      "text/html": [
       "<div>\n",
       "<style scoped>\n",
       "    .dataframe tbody tr th:only-of-type {\n",
       "        vertical-align: middle;\n",
       "    }\n",
       "\n",
       "    .dataframe tbody tr th {\n",
       "        vertical-align: top;\n",
       "    }\n",
       "\n",
       "    .dataframe thead th {\n",
       "        text-align: right;\n",
       "    }\n",
       "</style>\n",
       "<table border=\"1\" class=\"dataframe\">\n",
       "  <thead>\n",
       "    <tr style=\"text-align: right;\">\n",
       "      <th></th>\n",
       "      <th>Taxpayer_ID</th>\n",
       "      <th>Revenue</th>\n",
       "      <th>Expenses</th>\n",
       "      <th>Tax_Liability</th>\n",
       "      <th>Tax_Paid</th>\n",
       "      <th>Late_Filings</th>\n",
       "      <th>Compliance_Violations</th>\n",
       "      <th>Industry</th>\n",
       "      <th>Profit</th>\n",
       "      <th>Tax_Compliance_Ratio</th>\n",
       "      <th>Audit_Findings</th>\n",
       "      <th>Audit_to_Tax_Ratio</th>\n",
       "      <th>Risk_Label</th>\n",
       "    </tr>\n",
       "  </thead>\n",
       "  <tbody>\n",
       "    <tr>\n",
       "      <th>0</th>\n",
       "      <td>1</td>\n",
       "      <td>1149014.25</td>\n",
       "      <td>979871.09</td>\n",
       "      <td>39872.33</td>\n",
       "      <td>28921.92</td>\n",
       "      <td>2</td>\n",
       "      <td>1</td>\n",
       "      <td>Finance</td>\n",
       "      <td>169143.16</td>\n",
       "      <td>0.73</td>\n",
       "      <td>0</td>\n",
       "      <td>0.0</td>\n",
       "      <td>High</td>\n",
       "    </tr>\n",
       "    <tr>\n",
       "      <th>1</th>\n",
       "      <td>2</td>\n",
       "      <td>958520.71</td>\n",
       "      <td>884926.74</td>\n",
       "      <td>47832.22</td>\n",
       "      <td>39396.15</td>\n",
       "      <td>1</td>\n",
       "      <td>1</td>\n",
       "      <td>Retail</td>\n",
       "      <td>73593.97</td>\n",
       "      <td>0.82</td>\n",
       "      <td>0</td>\n",
       "      <td>0.0</td>\n",
       "      <td>Medium</td>\n",
       "    </tr>\n",
       "    <tr>\n",
       "      <th>2</th>\n",
       "      <td>3</td>\n",
       "      <td>1194306.56</td>\n",
       "      <td>711926.07</td>\n",
       "      <td>38113.70</td>\n",
       "      <td>43863.94</td>\n",
       "      <td>4</td>\n",
       "      <td>0</td>\n",
       "      <td>Manufacturing</td>\n",
       "      <td>482380.49</td>\n",
       "      <td>1.15</td>\n",
       "      <td>3</td>\n",
       "      <td>0.0</td>\n",
       "      <td>High</td>\n",
       "    </tr>\n",
       "    <tr>\n",
       "      <th>3</th>\n",
       "      <td>4</td>\n",
       "      <td>1456908.96</td>\n",
       "      <td>570612.64</td>\n",
       "      <td>45380.58</td>\n",
       "      <td>66876.88</td>\n",
       "      <td>4</td>\n",
       "      <td>2</td>\n",
       "      <td>Finance</td>\n",
       "      <td>886296.32</td>\n",
       "      <td>1.47</td>\n",
       "      <td>1</td>\n",
       "      <td>0.0</td>\n",
       "      <td>High</td>\n",
       "    </tr>\n",
       "    <tr>\n",
       "      <th>4</th>\n",
       "      <td>5</td>\n",
       "      <td>929753.99</td>\n",
       "      <td>839644.66</td>\n",
       "      <td>21595.78</td>\n",
       "      <td>53565.53</td>\n",
       "      <td>0</td>\n",
       "      <td>0</td>\n",
       "      <td>Tech</td>\n",
       "      <td>90109.33</td>\n",
       "      <td>2.48</td>\n",
       "      <td>2</td>\n",
       "      <td>0.0</td>\n",
       "      <td>Low</td>\n",
       "    </tr>\n",
       "  </tbody>\n",
       "</table>\n",
       "</div>"
      ],
      "text/plain": [
       "   Taxpayer_ID     Revenue   Expenses  Tax_Liability  Tax_Paid  Late_Filings  \\\n",
       "0            1  1149014.25  979871.09       39872.33  28921.92             2   \n",
       "1            2   958520.71  884926.74       47832.22  39396.15             1   \n",
       "2            3  1194306.56  711926.07       38113.70  43863.94             4   \n",
       "3            4  1456908.96  570612.64       45380.58  66876.88             4   \n",
       "4            5   929753.99  839644.66       21595.78  53565.53             0   \n",
       "\n",
       "   Compliance_Violations       Industry     Profit  Tax_Compliance_Ratio  \\\n",
       "0                      1        Finance  169143.16                  0.73   \n",
       "1                      1         Retail   73593.97                  0.82   \n",
       "2                      0  Manufacturing  482380.49                  1.15   \n",
       "3                      2        Finance  886296.32                  1.47   \n",
       "4                      0           Tech   90109.33                  2.48   \n",
       "\n",
       "   Audit_Findings  Audit_to_Tax_Ratio Risk_Label  \n",
       "0               0                 0.0       High  \n",
       "1               0                 0.0     Medium  \n",
       "2               3                 0.0       High  \n",
       "3               1                 0.0       High  \n",
       "4               2                 0.0        Low  "
      ]
     },
     "execution_count": 2,
     "metadata": {},
     "output_type": "execute_result"
    }
   ],
   "source": [
    "data = pd.read_csv(r\"C:\\Users\\Harriet\\Downloads\\PHASE 3 PROJECT\\data\\tax_risk_dataset.csv\")\n",
    "data.head()"
   ]
  },
  {
   "cell_type": "markdown",
   "metadata": {},
   "source": [
    "# EXPLORATORY DATA ANALYSIS"
   ]
  },
  {
   "cell_type": "markdown",
   "metadata": {},
   "source": [
    "## DATA INSPECTION"
   ]
  },
  {
   "cell_type": "code",
   "execution_count": 3,
   "metadata": {},
   "outputs": [
    {
     "name": "stdout",
     "output_type": "stream",
     "text": [
      "\n",
      " Column names:\n",
      "['Taxpayer_ID', 'Revenue', 'Expenses', 'Tax_Liability', 'Tax_Paid', 'Late_Filings', 'Compliance_Violations', 'Industry', 'Profit', 'Tax_Compliance_Ratio', 'Audit_Findings', 'Audit_to_Tax_Ratio', 'Risk_Label']\n",
      "\n",
      " Data types and non-null counts:\n",
      "<class 'pandas.core.frame.DataFrame'>\n",
      "RangeIndex: 1000 entries, 0 to 999\n",
      "Data columns (total 13 columns):\n",
      " #   Column                 Non-Null Count  Dtype  \n",
      "---  ------                 --------------  -----  \n",
      " 0   Taxpayer_ID            1000 non-null   int64  \n",
      " 1   Revenue                1000 non-null   float64\n",
      " 2   Expenses               1000 non-null   float64\n",
      " 3   Tax_Liability          1000 non-null   float64\n",
      " 4   Tax_Paid               1000 non-null   float64\n",
      " 5   Late_Filings           1000 non-null   int64  \n",
      " 6   Compliance_Violations  1000 non-null   int64  \n",
      " 7   Industry               1000 non-null   object \n",
      " 8   Profit                 1000 non-null   float64\n",
      " 9   Tax_Compliance_Ratio   1000 non-null   float64\n",
      " 10  Audit_Findings         1000 non-null   int64  \n",
      " 11  Audit_to_Tax_Ratio     1000 non-null   float64\n",
      " 12  Risk_Label             1000 non-null   object \n",
      "dtypes: float64(7), int64(4), object(2)\n",
      "memory usage: 101.7+ KB\n",
      "None\n",
      "\n",
      " Summary statistics (numerical columns):\n",
      "       Taxpayer_ID       Revenue      Expenses  Tax_Liability      Tax_Paid  \\\n",
      "count  1000.000000  1.000000e+03  1.000000e+03    1000.000000   1000.000000   \n",
      "mean    500.500000  1.005800e+06  7.141672e+05   50087.513200  47812.807910   \n",
      "std     288.819436  2.937648e+05  1.994909e+05   14751.814482  10271.325437   \n",
      "min       1.000000  2.761980e+04  1.119223e+05    4707.320000  18705.510000   \n",
      "25%     250.750000  8.057229e+05  5.787517e+05   40280.002500  40625.797500   \n",
      "50%     500.500000  1.007590e+06  7.126154e+05   49996.240000  48001.845000   \n",
      "75%     750.250000  1.194383e+06  8.457764e+05   59913.732500  54669.455000   \n",
      "max    1000.000000  2.155819e+06  1.338622e+06  108893.570000  80430.930000   \n",
      "\n",
      "       Late_Filings  Compliance_Violations        Profit  \\\n",
      "count   1000.000000            1000.000000  1.000000e+03   \n",
      "mean       2.029000               1.033000  2.916324e+05   \n",
      "std        1.415685               0.812756  3.617036e+05   \n",
      "min        0.000000               0.000000 -7.801314e+05   \n",
      "25%        1.000000               0.000000  4.100442e+04   \n",
      "50%        2.000000               1.000000  2.856810e+05   \n",
      "75%        3.000000               2.000000  5.514364e+05   \n",
      "max        4.000000               2.000000  1.401163e+06   \n",
      "\n",
      "       Tax_Compliance_Ratio  Audit_Findings  Audit_to_Tax_Ratio  \n",
      "count           1000.000000     1000.000000              1000.0  \n",
      "mean               1.077180        4.396000                 0.0  \n",
      "std                0.617086        2.927414                 0.0  \n",
      "min                0.240000        0.000000                 0.0  \n",
      "25%                0.767500        2.000000                 0.0  \n",
      "50%                0.970000        4.000000                 0.0  \n",
      "75%                1.210000        7.000000                 0.0  \n",
      "max               10.190000        9.000000                 0.0  \n",
      "\n",
      " Preview of the first 5 rows:\n",
      "   Taxpayer_ID     Revenue   Expenses  Tax_Liability  Tax_Paid  Late_Filings  \\\n",
      "0            1  1149014.25  979871.09       39872.33  28921.92             2   \n",
      "1            2   958520.71  884926.74       47832.22  39396.15             1   \n",
      "2            3  1194306.56  711926.07       38113.70  43863.94             4   \n",
      "3            4  1456908.96  570612.64       45380.58  66876.88             4   \n",
      "4            5   929753.99  839644.66       21595.78  53565.53             0   \n",
      "\n",
      "   Compliance_Violations       Industry     Profit  Tax_Compliance_Ratio  \\\n",
      "0                      1        Finance  169143.16                  0.73   \n",
      "1                      1         Retail   73593.97                  0.82   \n",
      "2                      0  Manufacturing  482380.49                  1.15   \n",
      "3                      2        Finance  886296.32                  1.47   \n",
      "4                      0           Tech   90109.33                  2.48   \n",
      "\n",
      "   Audit_Findings  Audit_to_Tax_Ratio Risk_Label  \n",
      "0               0                 0.0       High  \n",
      "1               0                 0.0     Medium  \n",
      "2               3                 0.0       High  \n",
      "3               1                 0.0       High  \n",
      "4               2                 0.0        Low  \n",
      "\n",
      " Preview rows and columns:\n",
      "(1000, 13)\n"
     ]
    }
   ],
   "source": [
    "print(\"\\n Column names:\")\n",
    "print(data.columns.tolist())\n",
    "\n",
    "print(\"\\n Data types and non-null counts:\")\n",
    "print(data.info())\n",
    "\n",
    "print(\"\\n Summary statistics (numerical columns):\")\n",
    "print(data.describe())\n",
    "\n",
    "print(\"\\n Preview of the first 5 rows:\")\n",
    "print(data.head())\n",
    "\n",
    "print(\"\\n Preview rows and columns:\")\n",
    "print(data.shape)"
   ]
  },
  {
   "cell_type": "markdown",
   "metadata": {},
   "source": [
    "## DATA PREPARATION\n",
    "\n",
    "### Checking for missing, duplicated and placeholder values.\n",
    "\n",
    "We will begin the data cleaning by checking for missing, duplicated and placeholder values in the dataset. One function will be used to check for them."
   ]
  },
  {
   "cell_type": "code",
   "execution_count": 4,
   "metadata": {},
   "outputs": [
    {
     "name": "stdout",
     "output_type": "stream",
     "text": [
      "-------------------------Missing Values Check---------------------------------------\n",
      "\n",
      "Number of null values in each column in the dataset:\n",
      "Taxpayer_ID              0\n",
      "Revenue                  0\n",
      "Expenses                 0\n",
      "Tax_Liability            0\n",
      "Tax_Paid                 0\n",
      "Late_Filings             0\n",
      "Compliance_Violations    0\n",
      "Industry                 0\n",
      "Profit                   0\n",
      "Tax_Compliance_Ratio     0\n",
      "Audit_Findings           0\n",
      "Audit_to_Tax_Ratio       0\n",
      "Risk_Label               0\n",
      "dtype: int64\n",
      "\n",
      "-------------------------Duplicated Values Check------------------------------------\n",
      "\n",
      "Number of duplicated values in the dataset: 0\n",
      "\n",
      "-------------------------Placeholder Values Check-----------------------------------\n",
      "\n",
      "Column: 'Taxpayer_ID'\n",
      "Placeholders found: []\n",
      "Count of placeholders: 0\n",
      "\n",
      "Column: 'Revenue'\n",
      "Placeholders found: []\n",
      "Count of placeholders: 0\n",
      "\n",
      "Column: 'Expenses'\n",
      "Placeholders found: []\n",
      "Count of placeholders: 0\n",
      "\n",
      "Column: 'Tax_Liability'\n",
      "Placeholders found: []\n",
      "Count of placeholders: 0\n",
      "\n",
      "Column: 'Tax_Paid'\n",
      "Placeholders found: []\n",
      "Count of placeholders: 0\n",
      "\n",
      "Column: 'Late_Filings'\n",
      "Placeholders found: []\n",
      "Count of placeholders: 0\n",
      "\n",
      "Column: 'Compliance_Violations'\n",
      "Placeholders found: []\n",
      "Count of placeholders: 0\n",
      "\n",
      "Column: 'Industry'\n",
      "Placeholders found: []\n",
      "Count of placeholders: 0\n",
      "\n",
      "Column: 'Profit'\n",
      "Placeholders found: []\n",
      "Count of placeholders: 0\n",
      "\n",
      "Column: 'Tax_Compliance_Ratio'\n",
      "Placeholders found: []\n",
      "Count of placeholders: 0\n",
      "\n",
      "Column: 'Audit_Findings'\n",
      "Placeholders found: []\n",
      "Count of placeholders: 0\n",
      "\n",
      "Column: 'Audit_to_Tax_Ratio'\n",
      "Placeholders found: []\n",
      "Count of placeholders: 0\n",
      "\n",
      "Column: 'Risk_Label'\n",
      "Placeholders found: []\n",
      "Count of placeholders: 0\n",
      "\n"
     ]
    }
   ],
   "source": [
    "# Creating a function that returns null, duplicated and placeholder values in the dataset.\n",
    "\n",
    "def data_prep(df):\n",
    "    print('-------------------------Missing Values Check---------------------------------------\\n')\n",
    "    print(f'Number of null values in each column in the dataset:\\n{df.isnull().sum()}\\n')\n",
    "    print('-------------------------Duplicated Values Check------------------------------------\\n')\n",
    "    print(f'Number of duplicated values in the dataset: {df.duplicated().sum()}\\n')\n",
    "    print('-------------------------Placeholder Values Check-----------------------------------\\n')\n",
    "    for column in df.columns:\n",
    "        unique_values = df[column].unique()\n",
    "        placeholders = [value for value in unique_values if str(value).strip().lower() in ['placeholder', 'na', 'n/a', '?']]\n",
    "        placeholder_count = len(placeholders)\n",
    "    \n",
    "        print(f\"Column: '{column}'\")\n",
    "        print(f\"Placeholders found: {placeholders}\")\n",
    "        print(f\"Count of placeholders: {placeholder_count}\\n\")\n",
    "# Checking in our dataset.\n",
    "data_prep(data)"
   ]
  },
  {
   "cell_type": "markdown",
   "metadata": {},
   "source": [
    "The dataset has no missing,duplicated or placeholder values"
   ]
  },
  {
   "cell_type": "markdown",
   "metadata": {},
   "source": [
    "Let's check if the dataset has any outliers and decide on whether to drop or keep them"
   ]
  },
  {
   "cell_type": "code",
   "execution_count": 5,
   "metadata": {},
   "outputs": [
    {
     "name": "stdout",
     "output_type": "stream",
     "text": [
      "Taxpayer_ID\n",
      "Number of outliers: 0\n",
      "\n",
      "Revenue\n",
      "Number of outliers: 8\n",
      "\n",
      "Expenses\n",
      "Number of outliers: 8\n",
      "\n",
      "Tax_Liability\n",
      "Number of outliers: 10\n",
      "\n",
      "Tax_Paid\n",
      "Number of outliers: 5\n",
      "\n",
      "Late_Filings\n",
      "Number of outliers: 0\n",
      "\n",
      "Compliance_Violations\n",
      "Number of outliers: 0\n",
      "\n",
      "Profit\n",
      "Number of outliers: 5\n",
      "\n",
      "Tax_Compliance_Ratio\n",
      "Number of outliers: 51\n",
      "\n",
      "Audit_Findings\n",
      "Number of outliers: 0\n",
      "\n",
      "Audit_to_Tax_Ratio\n",
      "Number of outliers: 0\n",
      "\n"
     ]
    }
   ],
   "source": [
    "# Creating a function that checks for outliers in the dataset.\n",
    "def check_outliers(df, columns):\n",
    "    for column in columns:\n",
    "        # Calculate IQR (Interquartile Range)\n",
    "        iqr = df[column].quantile(0.75) - df[column].quantile(0.25)\n",
    "        \n",
    "        # Define lower and upper thresholds\n",
    "        lower_threshold = df[column].quantile(0.25) - 1.5 * iqr\n",
    "        upper_threshold = df[column].quantile(0.75) + 1.5 * iqr\n",
    "\n",
    "        # Find outliers\n",
    "        outliers = df[(df[column] < lower_threshold) | (df[column] > upper_threshold)]\n",
    "\n",
    "        # Print the count of outliers\n",
    "        print(f\"{column}\\nNumber of outliers: {len(outliers)}\\n\")\n",
    "\n",
    "columns_to_check = data.select_dtypes(include = ['number'])\n",
    "check_outliers(data, columns_to_check)"
   ]
  },
  {
   "cell_type": "markdown",
   "metadata": {},
   "source": [
    "The dataset has a few outliers so let's try to visualize them"
   ]
  },
  {
   "cell_type": "code",
   "execution_count": 6,
   "metadata": {},
   "outputs": [
    {
     "data": {
      "image/png": "[encoded data removed]",
      "text/plain": [
       "<Figure size 864x432 with 1 Axes>"
      ]
     },
     "metadata": {},
     "output_type": "display_data"
    }
   ],
   "source": [
    "# Plotting a boxplot to check for outliers\n",
    "features_to_plot = data.select_dtypes(include = ['number'])\n",
    "plt.figure(figsize=(12,6))\n",
    "sns.boxplot(data=features_to_plot, ax=plt.gca())\n",
    "plt.xticks(rotation=45, ha='right')\n",
    "plt.xlabel('Features')\n",
    "plt.ylabel('Values')\n",
    "plt.title('Boxplot of Numeric Columns')\n",
    "plt.show();"
   ]
  },
  {
   "cell_type": "markdown",
   "metadata": {},
   "source": [
    "We will choose to retain them rather than drop them"
   ]
  },
  {
   "cell_type": "markdown",
   "metadata": {},
   "source": [
    "# Data Preprocessing"
   ]
  },
  {
   "cell_type": "code",
   "execution_count": 7,
   "metadata": {},
   "outputs": [
    {
     "data": {
      "text/plain": [
       "Index(['Taxpayer_ID', 'Revenue', 'Expenses', 'Tax_Liability', 'Tax_Paid',\n",
       "       'Late_Filings', 'Compliance_Violations', 'Industry', 'Profit',\n",
       "       'Tax_Compliance_Ratio', 'Audit_Findings', 'Audit_to_Tax_Ratio',\n",
       "       'Risk_Label'],\n",
       "      dtype='object')"
      ]
     },
     "execution_count": 7,
     "metadata": {},
     "output_type": "execute_result"
    }
   ],
   "source": [
    "data.columns"
   ]
  },
  {
   "cell_type": "markdown",
   "metadata": {},
   "source": [
    "### Handling the Target Variable (`Risk_Label`)\n",
    "\n",
    "- For binary classification let's filter the dataset to keep only the rows where the `Risk_Label` is either **\"Low\"** or **\"High\"**\n",
    "- This ensures that only relevant classes are included in the analysis\n",
    "  \n",
    "- Let's manually map the categorical labels to numeric values:\n",
    "  - `\"Low\"` is mapped to `0`\n",
    "  - `\"High\"` is mapped to `1`\n",
    "\n",
    "This numeric encoding is necessary for most machine learning algorithms that require numerical inputs, and mapping `\"High\"` to `1` clearly indicates it as the positive/high-risk class in the classification problem\n",
    "\n",
    "\n"
   ]
  },
  {
   "cell_type": "code",
   "execution_count": 8,
   "metadata": {},
   "outputs": [],
   "source": [
    "data = data[data[\"Risk_Label\"].isin([\"Low\", \"High\"])]\n",
    "data[\"Risk_Label\"] = data[\"Risk_Label\"].map({\"Low\": 0, \"High\": 1})\n"
   ]
  },
  {
   "cell_type": "markdown",
   "metadata": {},
   "source": [
    "Let's now do a value count of the Risk Label column to see if the rows have 0 and 1"
   ]
  },
  {
   "cell_type": "code",
   "execution_count": 9,
   "metadata": {},
   "outputs": [
    {
     "data": {
      "text/plain": [
       "1    736\n",
       "0    152\n",
       "Name: Risk_Label, dtype: int64"
      ]
     },
     "execution_count": 9,
     "metadata": {},
     "output_type": "execute_result"
    }
   ],
   "source": [
    "data[\"Risk_Label\"].value_counts()"
   ]
  },
  {
   "cell_type": "markdown",
   "id": "0f89a91a",
   "metadata": {},
   "source": [
    "# Analyzing the target variable "
   ]
  },
  {
   "cell_type": "code",
   "execution_count": 10,
   "id": "a4a3a979",
   "metadata": {},
   "outputs": [
    {
     "name": "stdout",
     "output_type": "stream",
     "text": [
      "1    736\n",
      "0    152\n",
      "Name: Risk_Label, dtype: int64\n"
     ]
    },
    {
     "data": {
      "text/plain": [
       "Text(0, 0.5, 'Count')"
      ]
     },
     "execution_count": 10,
     "metadata": {},
     "output_type": "execute_result"
    },
    {
     "data": {
      "image/png": "[encoded data removed]",
      "text/plain": [
       "<Figure size 576x432 with 1 Axes>"
      ]
     },
     "metadata": {},
     "output_type": "display_data"
    }
   ],
   "source": [
    "# Display value counts of unique items\n",
    "print(data['Risk_Label'].value_counts())\n",
    "\n",
    "# Set custom font parameters\n",
    "sns.set(font_scale=1.5)\n",
    "\n",
    "# Create a countplot of the 'churn' feature\n",
    "plt.figure(figsize=(8, 6))  \n",
    "sns.countplot(x='Risk_Label', data=data)\n",
    "plt.title(\"Risk_Label Count\")\n",
    "plt.xlabel(\"Risk_Label\")\n",
    "plt.ylabel(\"Count\")"
   ]
  },
  {
   "cell_type": "markdown",
   "metadata": {},
   "source": [
    "# Check Class Imbalance"
   ]
  },
  {
   "cell_type": "code",
   "execution_count": 11,
   "metadata": {},
   "outputs": [
    {
     "name": "stdout",
     "output_type": "stream",
     "text": [
      "1    736\n",
      "0    152\n",
      "Name: Risk_Label, dtype: int64\n",
      "\n",
      "1    0.828829\n",
      "0    0.171171\n",
      "Name: Risk_Label, dtype: float64\n"
     ]
    }
   ],
   "source": [
    "# Class frequency of target variable \n",
    "print(data['Risk_Label'].value_counts())\n",
    "print()\n",
    "print(data['Risk_Label'].value_counts(normalize = True))"
   ]
  },
  {
   "cell_type": "markdown",
   "id": "8c461526",
   "metadata": {},
   "source": [
    "- Let's use a pie chart to visualize the classes "
   ]
  },
  {
   "cell_type": "code",
   "execution_count": 12,
   "id": "faacfc35",
   "metadata": {},
   "outputs": [
    {
     "data": {
      "image/png": "[encoded data removed]",
      "text/plain": [
       "<Figure size 720x432 with 1 Axes>"
      ]
     },
     "metadata": {},
     "output_type": "display_data"
    }
   ],
   "source": [
    "# Create a pie chart to visualize the Risk label\n",
    "risk_counts = data['Risk_Label'].value_counts()\n",
    "\n",
    "plt.figure(figsize=(10, 6))\n",
    "plt.pie(risk_counts, \n",
    "        labels=risk_counts.index, \n",
    "        autopct='%1.1f%%', \n",
    "        startangle=90, \n",
    "        colors=['lightblue', 'lightcoral', 'lightgreen'])  # Adjust colors for 3 classes if needed\n",
    "plt.title('Distribution of Taxpayer Risk Levels')\n",
    "plt.axis('equal')\n",
    "plt.show()"
   ]
  },
  {
   "cell_type": "markdown",
   "id": "4a908e19",
   "metadata": {},
   "source": [
    "- The target variable, Risk_Label, is imbalanced with 82.9% high risk (1) and 17.1% low risk (0) taxpayers. \n",
    "- This imbalance can cause models to favor the majority class, so we will use SMOTE technique  and appropriate evaluation metrics to correct the imbalance"
   ]
  },
  {
   "cell_type": "markdown",
   "metadata": {},
   "source": [
    "# PREDICTIVE MODELLING"
   ]
  },
  {
   "cell_type": "markdown",
   "metadata": {},
   "source": [
    "## Define the features"
   ]
  },
  {
   "cell_type": "code",
   "execution_count": 13,
   "id": "52ab939d",
   "metadata": {},
   "outputs": [],
   "source": [
    "# Define X and y\n",
    "X = data.drop(columns=['Taxpayer_ID', 'Risk_Label'])\n",
    "y = data['Risk_Label']"
   ]
  },
  {
   "cell_type": "markdown",
   "id": "6bc9305f",
   "metadata": {},
   "source": [
    "We dropped Taxpayer_ID because it is a unique identifier for each individual and does not provide any predictive value for determining risk level. Including it in the model could lead to overfitting or noise, as it simply identifies a record rather than describing any meaningful behavior or financial attribute"
   ]
  },
  {
   "cell_type": "markdown",
   "id": "49ec3a42",
   "metadata": {},
   "source": [
    "# Identify numerical and categorical columns"
   ]
  },
  {
   "cell_type": "code",
   "execution_count": 14,
   "id": "df3338cf",
   "metadata": {},
   "outputs": [
    {
     "name": "stdout",
     "output_type": "stream",
     "text": [
      "['Revenue', 'Expenses', 'Tax_Liability', 'Tax_Paid', 'Late_Filings', 'Compliance_Violations', 'Profit', 'Tax_Compliance_Ratio', 'Audit_Findings', 'Audit_to_Tax_Ratio']\n",
      "\n",
      "['Industry']\n"
     ]
    }
   ],
   "source": [
    "numerical_cols = X.select_dtypes(include=['int64', 'float64']).columns.tolist()\n",
    "categorical_cols = X.select_dtypes(include=['object']).columns.tolist()\n",
    "\n",
    "print(numerical_cols)\n",
    "print()\n",
    "print(categorical_cols)"
   ]
  },
  {
   "cell_type": "code",
   "execution_count": null,
   "id": "727d35db",
   "metadata": {},
   "outputs": [],
   "source": []
  },
  {
   "cell_type": "code",
   "execution_count": null,
   "id": "e3713b3d",
   "metadata": {},
   "outputs": [],
   "source": []
  },
  {
   "cell_type": "code",
   "execution_count": null,
   "id": "747197c1",
   "metadata": {},
   "outputs": [],
   "source": []
  },
  {
   "cell_type": "code",
   "execution_count": null,
   "id": "f0c0c46a",
   "metadata": {},
   "outputs": [],
   "source": []
  }
 ],
 "metadata": {
  "kernelspec": {
   "display_name": "learn-env",
   "language": "python",
   "name": "python3"
  },
  "language_info": {
   "codemirror_mode": {
    "name": "ipython",
    "version": 3
   },
   "file_extension": ".py",
   "mimetype": "text/x-python",
   "name": "python",
   "nbconvert_exporter": "python",
   "pygments_lexer": "ipython3",
   "version": "3.8.5"
  }
 },
 "nbformat": 4,
 "nbformat_minor": 5
}
