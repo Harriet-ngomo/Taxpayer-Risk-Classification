{
 "cells": [
  {
   "cell_type": "markdown",
   "id": "dd071695",
   "metadata": {},
   "source": [
    "# Taxpayer Risk Classification Project\n",
    "\n",
    "## Project Overview\n",
    "\n",
    "In many countries, tax evasion and non-compliance significantly reduce government revenue needed for critical services like education, infrastructure, and healthcare. While some taxpayers follow rules diligently, others exploit system loopholes or avoid taxes altogether.\n",
    "Manual audit selection methods often depend on human judgment and limited resources, leading to inefficiencies and unfair targeting. However, by leveraging taxpayer data  such as revenue, expenses, filing behavior, and industry machine learning can help authorities flag potential high risk taxpayers more accurately. This enables smarter enforcement, early detection of risk, and a fairer tax ecosystem.\n",
    "\n",
    "\n",
    "## Business Problem\n",
    "Tax authorities face significant challenges in efficiently identifying taxpayers who are at high risk of non compliance or tax evasion. Without accurate risk profiling, audits and enforcement actions may be misallocated, leading to revenue losses and wasted resources. There is a need for a data driven approach to classify taxpayers based on their risk levels, enabling focused compliance efforts.\n",
    "The challenge is to determine whether this existing taxpayer data can be used to **accurately classify taxpayers as high or low risk**, enabling smarter audit selection, reducing the burden on compliant taxpayers, and improving overall compliance.\n",
    "\n",
    "> **How can we leverage taxpayer financial and behavioral data to automatically and accurately classify taxpayers by risk level, in order to support targeted audits, enhance compliance monitoring, and increase tax revenue efficiency?**\n",
    "\n",
    "---\n",
    "\n",
    "## Stakeholders\n",
    "| Stakeholder             | Role / Interest                                                                                 |\n",
    "|------------------------|------------------------------------------------------------------------------------------------|\n",
    "| **Tax Authority / Revenue Service**| Responsible for tax collection, compliance enforcement, and overall revenue maximization.    |\n",
    "| **Audit Teams**            | Use risk classifications to prioritize audits and investigations for efficient resource use.   |\n",
    "| **Policy Makers**           | Use insights from the model to improve tax regulations and compliance strategies.               |\n",
    "| **Taxpayers**               | Subject to audits and compliance monitoring; directly impacted by classification outcomes.     |\n",
    "| **Data Analysts / Data Scientists** | Develop, validate, and maintain predictive models, providing actionable insights to stakeholders |\n",
    "\n",
    "---\n",
    "\n",
    "## Business Objectives\n",
    "1. **How can we improve audit efficiency by prioritizing audits on high-risk taxpayers to reduce costs and increase revenue recovery?**\n",
    "\n",
    "2. **How can we develop a predictive model to categorize taxpayers by risk level (Low, Medium, High) for ongoing compliance monitoring and early intervention?**\n",
    "\n",
    "3. **How can we proactively identify potential non-compliant taxpayers to reduce tax evasion and maximize government revenue?**\n",
    "\n",
    "---\n",
    "\n",
    "## Analysis Objectives\n",
    "- **How can we build and validate a machine learning classification model that accurately predicts the risk label of taxpayers based on their financial and behavioral features?**\n",
    "\n",
    "- **Which features (e.g., revenue, expenses, late filings) most significantly influence the taxpayer risk classification and how can these insights inform targeted policy actions?**\n",
    "\n",
    "---\n",
    "## Data Understanding\n",
    "\n",
    "We will use taxpayer financial and behavioral data to build a predictive model. The dataset includes records of individual and business taxpayers, featuring approximately **1000** observations and **13** columns.\n",
    "\n",
    "## DATA PREPARATION\n",
    "\n",
    "### Checking for missing, duplicated and placeholder values.\n",
    "\n",
    "We will begin the data cleaning by checking for missing, duplicated and placeholder values in the dataset. One function will be used to check for them.\n",
    "\n",
    "### Data Description\n",
    "\n",
    "| Column Name              | Description                                                                                   | Data Type              |\n",
    "|--------------------------|-----------------------------------------------------------------------------------------------|------------------------|\n",
    "| `Taxpayer_ID`            | Unique identifier for each taxpayer                                                           | Categorical (ID)       |\n",
    "| `Revenue`                | Total revenue reported by the taxpayer                                                        | Numeric (Continuous)   |\n",
    "| `Expenses`               | Total expenses declared by the taxpayer                                                       | Numeric (Continuous)   |\n",
    "| `Tax_Liability`          | Total tax amount the taxpayer is liable to pay                                                | Numeric (Continuous)   |\n",
    "| `Tax_Paid`               | Actual tax amount paid by the taxpayer                                                        | Numeric (Continuous)   |\n",
    "| `Late_Filings`           | Number of late tax return submissions                                                         | Numeric (Discrete)     |\n",
    "| `Compliance_Violations` | Count of compliance violations reported                                                        | Numeric (Discrete)     |\n",
    "| `Industry`               | Industry sector in which the taxpayer operates                                                | Categorical            |\n",
    "| `Profit`                 | Net profit calculated as Revenue minus Expenses                                               | Numeric (Continuous)   |\n",
    "| `Tax_Compliance_Ratio`   | Ratio of tax paid to tax liability                                                            | Numeric (Continuous)   |\n",
    "| `Audit_Findings`         | Number of issues found during audits                                                          | Numeric (Discrete)     |\n",
    "| `Audit_to_Tax_Ratio`     | Ratio of audit findings to tax liability or tax paid                                          | Numeric (Continuous)   |\n",
    "| `Risk_Label`             | Target variable: classification of the taxpayer’s compliance risk (e.g., Low, Medium, High)   | Categorical (Target)   |\n",
    "\n",
    "\n",
    "\n",
    "### Data Overview\n",
    "\n",
    "Key features in the dataset include:\n",
    "\n",
    "- **Demographics** – Taxpayer ID, age, industry, location.\n",
    "- **Financial Data** – Reported revenue, deductible expenses, net income.\n",
    "- **Behavioral Data** – Filing frequency, past audits, late submissions, and penalties.\n",
    "- **Risk Labels** – Historical classification as high, medium, or low risk (target variable).\n",
    "\n",
    "### Data Exploration Approach\n",
    "\n",
    "To extract actionable insights and ensure data quality, we will:\n",
    "\n",
    "- Load and inspect the dataset to understand its structure and feature types\n",
    "- Handle missing values through imputation or removal depending on the nature and distribution\n",
    "- Explore relationships between taxpayer behavior and risk level\n",
    "- Visualize trends, outliers, and class imbalance (if any) before modeling\n",
    "\n",
    "\n",
    "## Prediction Target\n",
    "\n",
    "We are predicting the **Taxpayer Risk Label**, which categorizes taxpayers into different risk levels: **Low**, **Medium**, or **High** risk of non-compliance or tax evasion based on their financial data and compliance behavior\n",
    "\n",
    "For this analysis, we will perform **binary classification**, focusing only on the **Low** and **High** risk categories. This classification helps tax authorities prioritize audits and enforcement actions more effectively\n",
    "\n"
   ]
  },
  {
   "cell_type": "markdown",
   "id": "3199e60c",
   "metadata": {},
   "source": [
    "# Import modules & packages"
   ]
  },
  {
   "cell_type": "code",
   "execution_count": 1,
   "id": "5a97c615",
   "metadata": {},
   "outputs": [],
   "source": [
    "# Data manipulation \n",
    "import pandas as pd \n",
    "import numpy as np \n",
    "\n",
    "# Data visualization\n",
    "import seaborn as sns \n",
    "import matplotlib.pyplot as plt \n",
    "%matplotlib inline\n",
    "\n",
    "# Modeling\n",
    "from sklearn.model_selection import train_test_split,GridSearchCV\n",
    "from imblearn.over_sampling import SMOTE \n",
    "from sklearn.metrics import accuracy_score,confusion_matrix,roc_curve,auc,classification_report \n",
    "from sklearn.preprocessing import OneHotEncoder,StandardScaler\n",
    "from sklearn.tree import DecisionTreeClassifier,plot_tree\n",
    "from sklearn.linear_model import LogisticRegression\n",
    "from sklearn.metrics import ConfusionMatrixDisplay\n",
    "from sklearn import tree\n",
    "\n",
    "# Warnings\n",
    "import warnings\n",
    "warnings.filterwarnings('ignore')\n",
    "\n"
   ]
  },
  {
   "cell_type": "markdown",
   "id": "0b9dd184",
   "metadata": {},
   "source": [
    "# Load Dataset"
   ]
  },
  {
   "cell_type": "code",
   "execution_count": 2,
   "id": "ef8d17bd",
   "metadata": {},
   "outputs": [
    {
     "data": {
      "text/html": [
       "<div>\n",
       "<style scoped>\n",
       "    .dataframe tbody tr th:only-of-type {\n",
       "        vertical-align: middle;\n",
       "    }\n",
       "\n",
       "    .dataframe tbody tr th {\n",
       "        vertical-align: top;\n",
       "    }\n",
       "\n",
       "    .dataframe thead th {\n",
       "        text-align: right;\n",
       "    }\n",
       "</style>\n",
       "<table border=\"1\" class=\"dataframe\">\n",
       "  <thead>\n",
       "    <tr style=\"text-align: right;\">\n",
       "      <th></th>\n",
       "      <th>Taxpayer_ID</th>\n",
       "      <th>Revenue</th>\n",
       "      <th>Expenses</th>\n",
       "      <th>Tax_Liability</th>\n",
       "      <th>Tax_Paid</th>\n",
       "      <th>Late_Filings</th>\n",
       "      <th>Compliance_Violations</th>\n",
       "      <th>Industry</th>\n",
       "      <th>Profit</th>\n",
       "      <th>Tax_Compliance_Ratio</th>\n",
       "      <th>Audit_Findings</th>\n",
       "      <th>Audit_to_Tax_Ratio</th>\n",
       "      <th>Risk_Label</th>\n",
       "    </tr>\n",
       "  </thead>\n",
       "  <tbody>\n",
       "    <tr>\n",
       "      <th>0</th>\n",
       "      <td>1</td>\n",
       "      <td>1149014.25</td>\n",
       "      <td>979871.09</td>\n",
       "      <td>39872.33</td>\n",
       "      <td>28921.92</td>\n",
       "      <td>2</td>\n",
       "      <td>1</td>\n",
       "      <td>Finance</td>\n",
       "      <td>169143.16</td>\n",
       "      <td>0.73</td>\n",
       "      <td>0</td>\n",
       "      <td>0.0</td>\n",
       "      <td>High</td>\n",
       "    </tr>\n",
       "    <tr>\n",
       "      <th>1</th>\n",
       "      <td>2</td>\n",
       "      <td>958520.71</td>\n",
       "      <td>884926.74</td>\n",
       "      <td>47832.22</td>\n",
       "      <td>39396.15</td>\n",
       "      <td>1</td>\n",
       "      <td>1</td>\n",
       "      <td>Retail</td>\n",
       "      <td>73593.97</td>\n",
       "      <td>0.82</td>\n",
       "      <td>0</td>\n",
       "      <td>0.0</td>\n",
       "      <td>Medium</td>\n",
       "    </tr>\n",
       "    <tr>\n",
       "      <th>2</th>\n",
       "      <td>3</td>\n",
       "      <td>1194306.56</td>\n",
       "      <td>711926.07</td>\n",
       "      <td>38113.70</td>\n",
       "      <td>43863.94</td>\n",
       "      <td>4</td>\n",
       "      <td>0</td>\n",
       "      <td>Manufacturing</td>\n",
       "      <td>482380.49</td>\n",
       "      <td>1.15</td>\n",
       "      <td>3</td>\n",
       "      <td>0.0</td>\n",
       "      <td>High</td>\n",
       "    </tr>\n",
       "    <tr>\n",
       "      <th>3</th>\n",
       "      <td>4</td>\n",
       "      <td>1456908.96</td>\n",
       "      <td>570612.64</td>\n",
       "      <td>45380.58</td>\n",
       "      <td>66876.88</td>\n",
       "      <td>4</td>\n",
       "      <td>2</td>\n",
       "      <td>Finance</td>\n",
       "      <td>886296.32</td>\n",
       "      <td>1.47</td>\n",
       "      <td>1</td>\n",
       "      <td>0.0</td>\n",
       "      <td>High</td>\n",
       "    </tr>\n",
       "    <tr>\n",
       "      <th>4</th>\n",
       "      <td>5</td>\n",
       "      <td>929753.99</td>\n",
       "      <td>839644.66</td>\n",
       "      <td>21595.78</td>\n",
       "      <td>53565.53</td>\n",
       "      <td>0</td>\n",
       "      <td>0</td>\n",
       "      <td>Tech</td>\n",
       "      <td>90109.33</td>\n",
       "      <td>2.48</td>\n",
       "      <td>2</td>\n",
       "      <td>0.0</td>\n",
       "      <td>Low</td>\n",
       "    </tr>\n",
       "  </tbody>\n",
       "</table>\n",
       "</div>"
      ],
      "text/plain": [
       "   Taxpayer_ID     Revenue   Expenses  Tax_Liability  Tax_Paid  Late_Filings  \\\n",
       "0            1  1149014.25  979871.09       39872.33  28921.92             2   \n",
       "1            2   958520.71  884926.74       47832.22  39396.15             1   \n",
       "2            3  1194306.56  711926.07       38113.70  43863.94             4   \n",
       "3            4  1456908.96  570612.64       45380.58  66876.88             4   \n",
       "4            5   929753.99  839644.66       21595.78  53565.53             0   \n",
       "\n",
       "   Compliance_Violations       Industry     Profit  Tax_Compliance_Ratio  \\\n",
       "0                      1        Finance  169143.16                  0.73   \n",
       "1                      1         Retail   73593.97                  0.82   \n",
       "2                      0  Manufacturing  482380.49                  1.15   \n",
       "3                      2        Finance  886296.32                  1.47   \n",
       "4                      0           Tech   90109.33                  2.48   \n",
       "\n",
       "   Audit_Findings  Audit_to_Tax_Ratio Risk_Label  \n",
       "0               0                 0.0       High  \n",
       "1               0                 0.0     Medium  \n",
       "2               3                 0.0       High  \n",
       "3               1                 0.0       High  \n",
       "4               2                 0.0        Low  "
      ]
     },
     "execution_count": 2,
     "metadata": {},
     "output_type": "execute_result"
    }
   ],
   "source": [
    "data = pd.read_csv(r\"C:\\Users\\Harriet\\Downloads\\PHASE 3 PROJECT\\data\\tax_risk_dataset.csv\")\n",
    "data.head()"
   ]
  },
  {
   "cell_type": "markdown",
   "id": "5a9f4874",
   "metadata": {},
   "source": [
    "# EXPLORATORY DATA ANALYSIS"
   ]
  },
  {
   "cell_type": "markdown",
   "id": "8b41a2cd",
   "metadata": {},
   "source": [
    "## Data Exploration\n",
    "\n",
    "We will perform an initial exploration of the dataset to understand its structure and quality by:\n",
    "\n",
    "- Previewing the first few rows to get a glimpse of the data  \n",
    "- Examining the dataset’s dimensions and column names to identify the available features  \n",
    "- Checking the data types and metadata to assess completeness and memory usage  \n",
    "- Generating a statistical summary to understand the distribution and characteristics of numerical variables  \n",
    "- Checking for missing values to identify any potential data quality issues that need to be addressed  \n"
   ]
  },
  {
   "cell_type": "code",
   "execution_count": 3,
   "id": "f7d44ed7",
   "metadata": {},
   "outputs": [
    {
     "name": "stdout",
     "output_type": "stream",
     "text": [
      "==========================DATA OVERVIEW============================\n",
      "\n",
      "Preview of the first five rows:\n",
      "   Taxpayer_ID     Revenue   Expenses  Tax_Liability  Tax_Paid  Late_Filings  \\\n",
      "0            1  1149014.25  979871.09       39872.33  28921.92             2   \n",
      "1            2   958520.71  884926.74       47832.22  39396.15             1   \n",
      "2            3  1194306.56  711926.07       38113.70  43863.94             4   \n",
      "3            4  1456908.96  570612.64       45380.58  66876.88             4   \n",
      "4            5   929753.99  839644.66       21595.78  53565.53             0   \n",
      "\n",
      "   Compliance_Violations       Industry     Profit  Tax_Compliance_Ratio  \\\n",
      "0                      1        Finance  169143.16                  0.73   \n",
      "1                      1         Retail   73593.97                  0.82   \n",
      "2                      0  Manufacturing  482380.49                  1.15   \n",
      "3                      2        Finance  886296.32                  1.47   \n",
      "4                      0           Tech   90109.33                  2.48   \n",
      "\n",
      "   Audit_Findings  Audit_to_Tax_Ratio Risk_Label  \n",
      "0               0                 0.0       High  \n",
      "1               0                 0.0     Medium  \n",
      "2               3                 0.0       High  \n",
      "3               1                 0.0       High  \n",
      "4               2                 0.0        Low  \n",
      "\n",
      "Dataset shape: (1000, 13)\n",
      "\n",
      "Dataset columns: ['Taxpayer_ID', 'Revenue', 'Expenses', 'Tax_Liability', 'Tax_Paid', 'Late_Filings', 'Compliance_Violations', 'Industry', 'Profit', 'Tax_Compliance_Ratio', 'Audit_Findings', 'Audit_to_Tax_Ratio', 'Risk_Label']\n",
      "==========================DATA TYPES===========================\n",
      "\n",
      "Data types:\n",
      "Taxpayer_ID                int64\n",
      "Revenue                  float64\n",
      "Expenses                 float64\n",
      "Tax_Liability            float64\n",
      "Tax_Paid                 float64\n",
      "Late_Filings               int64\n",
      "Compliance_Violations      int64\n",
      "Industry                  object\n",
      "Profit                   float64\n",
      "Tax_Compliance_Ratio     float64\n",
      "Audit_Findings             int64\n",
      "Audit_to_Tax_Ratio       float64\n",
      "Risk_Label                object\n",
      "dtype: object\n",
      "==========================META DATA===========================\n",
      "\n",
      "Meta data:\n",
      "<class 'pandas.core.frame.DataFrame'>\n",
      "RangeIndex: 1000 entries, 0 to 999\n",
      "Data columns (total 13 columns):\n",
      " #   Column                 Non-Null Count  Dtype  \n",
      "---  ------                 --------------  -----  \n",
      " 0   Taxpayer_ID            1000 non-null   int64  \n",
      " 1   Revenue                1000 non-null   float64\n",
      " 2   Expenses               1000 non-null   float64\n",
      " 3   Tax_Liability          1000 non-null   float64\n",
      " 4   Tax_Paid               1000 non-null   float64\n",
      " 5   Late_Filings           1000 non-null   int64  \n",
      " 6   Compliance_Violations  1000 non-null   int64  \n",
      " 7   Industry               1000 non-null   object \n",
      " 8   Profit                 1000 non-null   float64\n",
      " 9   Tax_Compliance_Ratio   1000 non-null   float64\n",
      " 10  Audit_Findings         1000 non-null   int64  \n",
      " 11  Audit_to_Tax_Ratio     1000 non-null   float64\n",
      " 12  Risk_Label             1000 non-null   object \n",
      "dtypes: float64(7), int64(4), object(2)\n",
      "memory usage: 101.7+ KB\n",
      "==========================STATISTICAL SUMMARY===========================\n",
      "\n",
      "Statistical summary:\n",
      "       Taxpayer_ID     Revenue    Expenses  Tax_Liability  Tax_Paid  \\\n",
      "count      1000.00     1000.00     1000.00        1000.00   1000.00   \n",
      "mean        500.50  1005799.62   714167.25       50087.51  47812.81   \n",
      "std         288.82   293764.78   199490.88       14751.81  10271.33   \n",
      "min           1.00    27619.80   111922.27        4707.32  18705.51   \n",
      "25%         250.75   805722.90   578751.66       40280.00  40625.80   \n",
      "50%         500.50  1007590.18   712615.42       49996.24  48001.84   \n",
      "75%         750.25  1194383.16   845776.44       59913.73  54669.46   \n",
      "max        1000.00  2155819.45  1338621.51      108893.57  80430.93   \n",
      "\n",
      "       Late_Filings  Compliance_Violations      Profit  Tax_Compliance_Ratio  \\\n",
      "count       1000.00                1000.00     1000.00               1000.00   \n",
      "mean           2.03                   1.03   291632.37                  1.08   \n",
      "std            1.42                   0.81   361703.60                  0.62   \n",
      "min            0.00                   0.00  -780131.40                  0.24   \n",
      "25%            1.00                   0.00    41004.42                  0.77   \n",
      "50%            2.00                   1.00   285680.98                  0.97   \n",
      "75%            3.00                   2.00   551436.36                  1.21   \n",
      "max            4.00                   2.00  1401162.68                 10.19   \n",
      "\n",
      "       Audit_Findings  Audit_to_Tax_Ratio  \n",
      "count         1000.00              1000.0  \n",
      "mean             4.40                 0.0  \n",
      "std              2.93                 0.0  \n",
      "min              0.00                 0.0  \n",
      "25%              2.00                 0.0  \n",
      "50%              4.00                 0.0  \n",
      "75%              7.00                 0.0  \n",
      "max              9.00                 0.0  \n"
     ]
    }
   ],
   "source": [
    "# DATA EXPLORATION\n",
    "print(\"==========================DATA OVERVIEW============================\")\n",
    "print(\"\\nPreview of the first five rows:\")\n",
    "print(data.head())\n",
    "\n",
    "print(f\"\\nDataset shape: {data.shape}\")\n",
    "print(f\"\\nDataset columns: {list(data.columns)}\")\n",
    "\n",
    "print(\"==========================DATA TYPES===========================\")\n",
    "print(\"\\nData types:\")\n",
    "print(data.dtypes)\n",
    "\n",
    "print(\"==========================META DATA===========================\")\n",
    "print(\"\\nMeta data:\")\n",
    "data.info()  \n",
    "\n",
    "print(\"==========================STATISTICAL SUMMARY===========================\")\n",
    "print(\"\\nStatistical summary:\")\n",
    "print(data.describe().round(2))\n",
    "\n"
   ]
  },
  {
   "cell_type": "markdown",
   "id": "eecf7c9d",
   "metadata": {},
   "source": [
    "## DATA PREPARATION\n",
    "\n",
    "### Checking for missing, duplicated and placeholder values.\n",
    "\n",
    "We will begin the data cleaning by checking for missing, duplicated and placeholder values in the dataset. One function will be used to check for them."
   ]
  },
  {
   "cell_type": "code",
   "execution_count": 4,
   "id": "b1d69d87",
   "metadata": {},
   "outputs": [
    {
     "name": "stdout",
     "output_type": "stream",
     "text": [
      "-------------------------Missing Values Check---------------------------------------\n",
      "\n",
      "Number of null values in each column in the dataset:\n",
      "Taxpayer_ID              0\n",
      "Revenue                  0\n",
      "Expenses                 0\n",
      "Tax_Liability            0\n",
      "Tax_Paid                 0\n",
      "Late_Filings             0\n",
      "Compliance_Violations    0\n",
      "Industry                 0\n",
      "Profit                   0\n",
      "Tax_Compliance_Ratio     0\n",
      "Audit_Findings           0\n",
      "Audit_to_Tax_Ratio       0\n",
      "Risk_Label               0\n",
      "dtype: int64\n",
      "\n",
      "-------------------------Duplicated Values Check------------------------------------\n",
      "\n",
      "Number of duplicated values in the dataset: 0\n",
      "\n",
      "-------------------------Placeholder Values Check-----------------------------------\n",
      "\n",
      "Column: 'Taxpayer_ID'\n",
      "Placeholders found: []\n",
      "Count of placeholders: 0\n",
      "\n",
      "Column: 'Revenue'\n",
      "Placeholders found: []\n",
      "Count of placeholders: 0\n",
      "\n",
      "Column: 'Expenses'\n",
      "Placeholders found: []\n",
      "Count of placeholders: 0\n",
      "\n",
      "Column: 'Tax_Liability'\n",
      "Placeholders found: []\n",
      "Count of placeholders: 0\n",
      "\n",
      "Column: 'Tax_Paid'\n",
      "Placeholders found: []\n",
      "Count of placeholders: 0\n",
      "\n",
      "Column: 'Late_Filings'\n",
      "Placeholders found: []\n",
      "Count of placeholders: 0\n",
      "\n",
      "Column: 'Compliance_Violations'\n",
      "Placeholders found: []\n",
      "Count of placeholders: 0\n",
      "\n",
      "Column: 'Industry'\n",
      "Placeholders found: []\n",
      "Count of placeholders: 0\n",
      "\n",
      "Column: 'Profit'\n",
      "Placeholders found: []\n",
      "Count of placeholders: 0\n",
      "\n",
      "Column: 'Tax_Compliance_Ratio'\n",
      "Placeholders found: []\n",
      "Count of placeholders: 0\n",
      "\n",
      "Column: 'Audit_Findings'\n",
      "Placeholders found: []\n",
      "Count of placeholders: 0\n",
      "\n",
      "Column: 'Audit_to_Tax_Ratio'\n",
      "Placeholders found: []\n",
      "Count of placeholders: 0\n",
      "\n",
      "Column: 'Risk_Label'\n",
      "Placeholders found: []\n",
      "Count of placeholders: 0\n",
      "\n"
     ]
    }
   ],
   "source": [
    "# Creating a function that returns null, duplicated and placeholder values in the dataset.\n",
    "\n",
    "def data_prep(df):\n",
    "    print('-------------------------Missing Values Check---------------------------------------\\n')\n",
    "    print(f'Number of null values in each column in the dataset:\\n{df.isnull().sum()}\\n')\n",
    "    print('-------------------------Duplicated Values Check------------------------------------\\n')\n",
    "    print(f'Number of duplicated values in the dataset: {df.duplicated().sum()}\\n')\n",
    "    print('-------------------------Placeholder Values Check-----------------------------------\\n')\n",
    "    for column in df.columns:\n",
    "        unique_values = df[column].unique()\n",
    "        placeholders = [value for value in unique_values if str(value).strip().lower() in ['placeholder', 'na', 'n/a', '?']]\n",
    "        placeholder_count = len(placeholders)\n",
    "    \n",
    "        print(f\"Column: '{column}'\")\n",
    "        print(f\"Placeholders found: {placeholders}\")\n",
    "        print(f\"Count of placeholders: {placeholder_count}\\n\")\n",
    "# Checking in our dataset.\n",
    "data_prep(data)"
   ]
  },
  {
   "cell_type": "markdown",
   "id": "d5e9e9be",
   "metadata": {},
   "source": [
    "The dataset has no missing,duplicated or placeholder values"
   ]
  },
  {
   "cell_type": "markdown",
   "id": "28b6ab64",
   "metadata": {},
   "source": [
    "Let's check if the dataset has any outliers and decide on whether to drop or keep them"
   ]
  },
  {
   "cell_type": "code",
   "execution_count": 5,
   "id": "684107ae",
   "metadata": {},
   "outputs": [
    {
     "name": "stdout",
     "output_type": "stream",
     "text": [
      "Taxpayer_ID\n",
      "Number of outliers: 0\n",
      "\n",
      "Revenue\n",
      "Number of outliers: 8\n",
      "\n",
      "Expenses\n",
      "Number of outliers: 8\n",
      "\n",
      "Tax_Liability\n",
      "Number of outliers: 10\n",
      "\n",
      "Tax_Paid\n",
      "Number of outliers: 5\n",
      "\n",
      "Late_Filings\n",
      "Number of outliers: 0\n",
      "\n",
      "Compliance_Violations\n",
      "Number of outliers: 0\n",
      "\n",
      "Profit\n",
      "Number of outliers: 5\n",
      "\n",
      "Tax_Compliance_Ratio\n",
      "Number of outliers: 51\n",
      "\n",
      "Audit_Findings\n",
      "Number of outliers: 0\n",
      "\n",
      "Audit_to_Tax_Ratio\n",
      "Number of outliers: 0\n",
      "\n"
     ]
    }
   ],
   "source": [
    "# Creating a function that checks for outliers in the dataset.\n",
    "def check_outliers(df, columns):\n",
    "    for column in columns:\n",
    "        # Calculate IQR (Interquartile Range)\n",
    "        iqr = df[column].quantile(0.75) - df[column].quantile(0.25)\n",
    "        \n",
    "        # Define lower and upper thresholds\n",
    "        lower_threshold = df[column].quantile(0.25) - 1.5 * iqr\n",
    "        upper_threshold = df[column].quantile(0.75) + 1.5 * iqr\n",
    "\n",
    "        # Find outliers\n",
    "        outliers = df[(df[column] < lower_threshold) | (df[column] > upper_threshold)]\n",
    "\n",
    "        # Print the count of outliers\n",
    "        print(f\"{column}\\nNumber of outliers: {len(outliers)}\\n\")\n",
    "\n",
    "columns_to_check = data.select_dtypes(include = ['number'])\n",
    "check_outliers(data, columns_to_check)"
   ]
  },
  {
   "cell_type": "markdown",
   "id": "c920cfe1",
   "metadata": {},
   "source": [
    "The dataset has a few outliers so let's try to visualize them"
   ]
  },
  {
   "cell_type": "code",
   "execution_count": 6,
   "id": "68e029ba",
   "metadata": {},
   "outputs": [
    {
     "data": {
      "image/png": "[encoded data removed]",
      "text/plain": [
       "<Figure size 864x432 with 1 Axes>"
      ]
     },
     "metadata": {
      "needs_background": "light"
     },
     "output_type": "display_data"
    }
   ],
   "source": [
    "# Plotting a boxplot to check for outliers\n",
    "features_to_plot = data.select_dtypes(include = ['number'])\n",
    "plt.figure(figsize=(12,6))\n",
    "sns.boxplot(data=features_to_plot, ax=plt.gca())\n",
    "plt.xticks(rotation=45, ha='right')\n",
    "plt.xlabel('Features')\n",
    "plt.ylabel('Values')\n",
    "plt.title('Boxplot of Numeric Columns')\n",
    "plt.show();"
   ]
  },
  {
   "cell_type": "markdown",
   "id": "5ec0d8a4",
   "metadata": {},
   "source": [
    "We will choose to retain them rather than drop them"
   ]
  },
  {
   "cell_type": "markdown",
   "id": "3a1ed77e",
   "metadata": {},
   "source": [
    "# Data Preprocessing"
   ]
  },
  {
   "cell_type": "code",
   "execution_count": 7,
   "id": "206943ae",
   "metadata": {},
   "outputs": [
    {
     "data": {
      "text/plain": [
       "Index(['Taxpayer_ID', 'Revenue', 'Expenses', 'Tax_Liability', 'Tax_Paid',\n",
       "       'Late_Filings', 'Compliance_Violations', 'Industry', 'Profit',\n",
       "       'Tax_Compliance_Ratio', 'Audit_Findings', 'Audit_to_Tax_Ratio',\n",
       "       'Risk_Label'],\n",
       "      dtype='object')"
      ]
     },
     "execution_count": 7,
     "metadata": {},
     "output_type": "execute_result"
    }
   ],
   "source": [
    "data.columns"
   ]
  },
  {
   "cell_type": "markdown",
   "id": "c1786e93",
   "metadata": {},
   "source": [
    "### Handling the Target Variable (`Risk_Label`)\n",
    "\n",
    "- For binary classification let's filter the dataset to keep only the rows where the `Risk_Label` is either **\"Low\"** or **\"High\"**\n",
    "- This ensures that only relevant classes are included in the analysis\n",
    "  \n",
    "- Let's manually map the categorical labels to numeric values:\n",
    "  - `\"Low\"` is mapped to `0`\n",
    "  - `\"High\"` is mapped to `1`\n"
   ]
  },
  {
   "cell_type": "code",
   "execution_count": 8,
   "id": "523bc795",
   "metadata": {},
   "outputs": [],
   "source": [
    "data = data[data[\"Risk_Label\"].isin([\"Low\", \"High\"])]\n",
    "data[\"Risk_Label\"] = data[\"Risk_Label\"].map({\"Low\": 0, \"High\": 1})\n"
   ]
  },
  {
   "cell_type": "markdown",
   "id": "21d0a804",
   "metadata": {},
   "source": [
    "Let's now do a value count of the Risk Label column to see if the rows have 0 and 1"
   ]
  },
  {
   "cell_type": "code",
   "execution_count": 9,
   "id": "7cc3afc9",
   "metadata": {},
   "outputs": [
    {
     "data": {
      "text/plain": [
       "1    736\n",
       "0    152\n",
       "Name: Risk_Label, dtype: int64"
      ]
     },
     "execution_count": 9,
     "metadata": {},
     "output_type": "execute_result"
    }
   ],
   "source": [
    "data[\"Risk_Label\"].value_counts()"
   ]
  },
  {
   "cell_type": "markdown",
   "id": "62321515",
   "metadata": {},
   "source": [
    "# Analyzing the target variable \n",
    "- Let's visualize the frequency of each category in the Risk_Label feature to understand the distribution of risk classes in the dataset"
   ]
  },
  {
   "cell_type": "code",
   "execution_count": 10,
   "id": "d2bf2e8e",
   "metadata": {},
   "outputs": [
    {
     "name": "stdout",
     "output_type": "stream",
     "text": [
      "1    736\n",
      "0    152\n",
      "Name: Risk_Label, dtype: int64\n"
     ]
    },
    {
     "data": {
      "text/plain": [
       "Text(0, 0.5, 'Count')"
      ]
     },
     "execution_count": 10,
     "metadata": {},
     "output_type": "execute_result"
    },
    {
     "data": {
      "image/png": "[encoded data removed]",
      "text/plain": [
       "<Figure size 576x432 with 1 Axes>"
      ]
     },
     "metadata": {},
     "output_type": "display_data"
    }
   ],
   "source": [
    "# Display value counts of unique items\n",
    "print(data['Risk_Label'].value_counts())\n",
    "\n",
    "# Set custom font parameters\n",
    "sns.set(font_scale=1.5)\n",
    "colors = sns.color_palette(\"Set1\")\n",
    "# Create a countplot of the 'Risk label' feature\n",
    "plt.figure(figsize=(8, 6))  \n",
    "sns.countplot(x='Risk_Label', data=data, palette=colors)\n",
    "plt.title(\"Risk_Label Count\")\n",
    "plt.xlabel(\"Risk_Label\")\n",
    "plt.ylabel(\"Count\")"
   ]
  },
  {
   "cell_type": "markdown",
   "id": "ffb07bcb",
   "metadata": {},
   "source": [
    "- The plot shows that label 1 occurs more frequently than label 0, indicating class imbalance"
   ]
  },
  {
   "cell_type": "markdown",
   "id": "f7344a1c",
   "metadata": {},
   "source": [
    "## Class imbalance"
   ]
  },
  {
   "cell_type": "code",
   "execution_count": 11,
   "id": "0e75821a",
   "metadata": {},
   "outputs": [
    {
     "name": "stdout",
     "output_type": "stream",
     "text": [
      "1    736\n",
      "0    152\n",
      "Name: Risk_Label, dtype: int64\n",
      "\n",
      "1    0.828829\n",
      "0    0.171171\n",
      "Name: Risk_Label, dtype: float64\n"
     ]
    }
   ],
   "source": [
    "# Class frequency of target variable \n",
    "print(data['Risk_Label'].value_counts())\n",
    "print()\n",
    "print(data['Risk_Label'].value_counts(normalize = True))"
   ]
  },
  {
   "cell_type": "markdown",
   "id": "bbb383bd",
   "metadata": {},
   "source": [
    "- Let's use a pie chart to visualize the classes "
   ]
  },
  {
   "cell_type": "code",
   "execution_count": 12,
   "id": "b46fdef4",
   "metadata": {},
   "outputs": [
    {
     "data": {
      "image/png": "[encoded data removed]",
      "text/plain": [
       "<Figure size 720x432 with 1 Axes>"
      ]
     },
     "metadata": {},
     "output_type": "display_data"
    }
   ],
   "source": [
    "# Create a pie chart to visualize the Risk label\n",
    "risk_counts = data['Risk_Label'].value_counts()\n",
    "import seaborn as sns\n",
    "colors = sns.color_palette('tab10', n_colors=len(risk_counts))\n",
    "plt.figure(figsize=(10, 6))\n",
    "plt.pie(risk_counts, \n",
    "        labels=risk_counts.index, \n",
    "        autopct='%1.1f%%', \n",
    "        startangle=90, \n",
    "        colors= colors)\n",
    "plt.title('Distribution of Taxpayer Risk Levels')\n",
    "plt.axis('equal')\n",
    "plt.show()"
   ]
  },
  {
   "cell_type": "markdown",
   "id": "35c6eac7",
   "metadata": {},
   "source": [
    "- The target variable, Risk_Label, is imbalanced with 82.9% high risk (1) and 17.1% low risk (0) taxpayers. \n",
    "- This imbalance can cause models to favor the majority class, so we will use SMOTE technique  and appropriate evaluation metrics to correct the imbalance"
   ]
  },
  {
   "cell_type": "markdown",
   "id": "d64f925e",
   "metadata": {},
   "source": [
    "## Feature Distributions by Risk Label\n",
    "\n",
    "Let's use KDE plots to compare the distribution of each numerical feature across `Risk_Label = 0` (nonrisky) and `Risk_Label = 1` (risky) taxpayers. These visualizations will help us identify which features can distinguish between risky and non-risky behavior\n",
    "\n"
   ]
  },
  {
   "cell_type": "code",
   "execution_count": 13,
   "id": "7befb97d",
   "metadata": {},
   "outputs": [
    {
     "name": "stdout",
     "output_type": "stream",
     "text": [
      "1\n",
      "count    888.0\n",
      "mean       0.0\n",
      "std        0.0\n",
      "min        0.0\n",
      "25%        0.0\n",
      "50%        0.0\n",
      "75%        0.0\n",
      "max        0.0\n",
      "Name: Audit_to_Tax_Ratio, dtype: float64\n"
     ]
    }
   ],
   "source": [
    "print(data[\"Audit_to_Tax_Ratio\"].nunique())\n",
    "print(data[\"Audit_to_Tax_Ratio\"].describe())"
   ]
  },
  {
   "cell_type": "markdown",
   "id": "7ccfe9ec",
   "metadata": {},
   "source": [
    "- We will not plot the audit to tax ratio feature because all values are 0.0  so the plot will be a flat line or empty and will not show any separation between risky and non risky taxpayers"
   ]
  },
  {
   "cell_type": "code",
   "execution_count": 14,
   "id": "eb1f1dea",
   "metadata": {},
   "outputs": [
    {
     "data": {
      "image/png": "[encoded data removed]",
      "text/plain": [
       "<Figure size 1296x576 with 6 Axes>"
      ]
     },
     "metadata": {},
     "output_type": "display_data"
    }
   ],
   "source": [
    "# List of numerical features to plot\n",
    "numerical_features = [\n",
    "    'Revenue', 'Expenses', 'Tax_Liability', 'Tax_Paid', 'Profit',\n",
    "    'Tax_Compliance_Ratio']\n",
    "\n",
    "# Set up plot style\n",
    "sns.set(style=\"whitegrid\")\n",
    "\n",
    "# Create subplots\n",
    "n_cols = 3\n",
    "n_rows = (len(numerical_features) + n_cols - 1) // n_cols\n",
    "fig, axes = plt.subplots(n_rows, n_cols, figsize=(18, 4 * n_rows))\n",
    "axes = axes.flatten()\n",
    "\n",
    "# Plot KDEs\n",
    "for idx, feature in enumerate(numerical_features):\n",
    "    sns.kdeplot(\n",
    "        data=data, x=feature, hue='Risk_Label',\n",
    "        common_norm=False, fill=True, alpha=0.3,\n",
    "        ax=axes[idx]\n",
    "    )\n",
    "    axes[idx].set_title(f'Density of {feature}', fontsize=12)\n",
    "    axes[idx].set_xlabel(feature)\n",
    "    axes[idx].set_ylabel('Density')\n",
    "\n",
    "# Hide any empty subplots\n",
    "for i in range(len(numerical_features), len(axes)):\n",
    "    fig.delaxes(axes[i])\n",
    "\n",
    "# Overall title\n",
    "plt.suptitle(\"Distribution of Risk_Label by Numerical Features\", fontsize=16, y=1.02)\n",
    "plt.tight_layout()\n",
    "plt.show()\n"
   ]
  },
  {
   "cell_type": "markdown",
   "id": "c936206f",
   "metadata": {},
   "source": [
    "#### Key Features that show separation\n",
    "\n",
    "**1. Tax_Compliance_Ratio**\n",
    "- **Observation:** Risky taxpayers show a wider, flatter distribution with more density at lower compliance ratios\n",
    "-  Non risky taxpayers peak sharply around values between 1 and 2\n",
    "- **Interpretation:** Risky individuals tend to have lower tax compliance (they pay less than they owe)\n",
    "\n",
    "**2. Tax_Paid**\n",
    "- **Observation:** Risky taxpayers peak at lower values (40k–50k)  while non risky ones peak higher (55k–65k)\n",
    "- **Interpretation:** High risk taxpayers generally pay less in taxes\n",
    "\n",
    "**3. Tax_Liability**\n",
    "- **Observation:** Risky taxpayers peak at higher liability amounts ( around 60k+) whereas non risky ones peak around 40k\n",
    "- **Interpretation:** Risky individuals tend to owe more taxes, potentially due to underreporting or aggressive deductions\n"
   ]
  },
  {
   "cell_type": "markdown",
   "id": "3450e067",
   "metadata": {},
   "source": [
    "# Identify numerical and categorical columns"
   ]
  },
  {
   "cell_type": "code",
   "execution_count": 15,
   "id": "5b500a13",
   "metadata": {},
   "outputs": [
    {
     "name": "stdout",
     "output_type": "stream",
     "text": [
      "['Taxpayer_ID', 'Revenue', 'Expenses', 'Tax_Liability', 'Tax_Paid', 'Late_Filings', 'Compliance_Violations', 'Profit', 'Tax_Compliance_Ratio', 'Audit_Findings', 'Audit_to_Tax_Ratio', 'Risk_Label']\n",
      "\n",
      "['Industry']\n"
     ]
    }
   ],
   "source": [
    "numerical_cols = data.select_dtypes(include=['int64', 'float64']).columns.tolist()\n",
    "categorical_cols = data.select_dtypes(include=['object']).columns.tolist()\n",
    "\n",
    "print(numerical_cols)\n",
    "print()\n",
    "print(categorical_cols)"
   ]
  },
  {
   "cell_type": "markdown",
   "id": "07673ce9",
   "metadata": {},
   "source": [
    "### Visualizing  the distribution the categorical feature"
   ]
  },
  {
   "cell_type": "code",
   "execution_count": 16,
   "id": "9609a46b",
   "metadata": {},
   "outputs": [
    {
     "data": {
      "image/png": "[encoded data removed]",
      "text/plain": [
       "<Figure size 576x288 with 1 Axes>"
      ]
     },
     "metadata": {},
     "output_type": "display_data"
    }
   ],
   "source": [
    "for col in categorical_cols:\n",
    "    plt.figure(figsize=(8, 4))\n",
    "    sns.countplot(data=data, x=col, order=data[col].value_counts().index, palette='Set2')\n",
    "    plt.title(f\"Count Plot of {col}\")\n",
    "    plt.xticks(rotation=45)\n",
    "    plt.tight_layout()\n",
    "    plt.show()"
   ]
  },
  {
   "cell_type": "markdown",
   "id": "2e514cf9",
   "metadata": {},
   "source": [
    "- Retain industriy is the most frequent one"
   ]
  },
  {
   "cell_type": "markdown",
   "id": "b2bf88c7",
   "metadata": {},
   "source": [
    "# Correlation matrix for all the Numeric columns "
   ]
  },
  {
   "cell_type": "markdown",
   "id": "722fa34a",
   "metadata": {},
   "source": [
    "- Let's visualize how numerical features are correlated and  identify strong relationships "
   ]
  },
  {
   "cell_type": "code",
   "execution_count": null,
   "id": "428950c3",
   "metadata": {},
   "outputs": [],
   "source": [
    "# Define numeric features from your dataset\n",
    "numeric_features = numerical_cols\n",
    "\n",
    "# Calculate correlation matrix\n",
    "correlation_matrix = data[numeric_features].corr()\n",
    "\n",
    "# Plot heatmap\n",
    "plt.figure(figsize=(12, 10))\n",
    "sns.heatmap(correlation_matrix,\n",
    "            annot=True,\n",
    "            cmap=\"coolwarm\",\n",
    "            square=True,\n",
    "            fmt=\".2f\",\n",
    "            annot_kws={\"size\": 10})\n",
    "plt.title(\"Correlation Heatmap of Financial and Compliance Variables\")\n",
    "plt.show()\n"
   ]
  },
  {
   "cell_type": "markdown",
   "id": "8303d7dd",
   "metadata": {},
   "source": [
    "- The heatmap reveals strong positive correlations between Revenue, Profit and Expenses indicating these financial metrics tend to rise together\n",
    "- Tax_Paid also shows a moderate relationship with both Tax_Liability and Risk_Label linking payment behavior to risk\n",
    "- On the negative side  Tax_Compliance_Ratio drops as Tax_Liability or Compliance_Violations increase suggesting poorer compliance in such cases\n",
    "- Variables like Taxpayer_ID and Audit_Findings show little to no meaningful correlation with others"
   ]
  },
  {
   "cell_type": "markdown",
   "id": "9429e3db",
   "metadata": {},
   "source": [
    "# PREDICTIVE MODELLING"
   ]
  },
  {
   "cell_type": "markdown",
   "id": "b6510b02",
   "metadata": {},
   "source": [
    "## DATA PREPROCESSING"
   ]
  },
  {
   "cell_type": "markdown",
   "id": "3668e746",
   "metadata": {},
   "source": [
    "## Define the features"
   ]
  },
  {
   "cell_type": "code",
   "execution_count": null,
   "id": "5cbb30c5",
   "metadata": {},
   "outputs": [],
   "source": [
    "# Define X and y\n",
    "X = data.drop(columns=['Taxpayer_ID', 'Risk_Label'])\n",
    "y = data['Risk_Label']"
   ]
  },
  {
   "cell_type": "markdown",
   "id": "8922201a",
   "metadata": {},
   "source": [
    "We dropped Taxpayer_ID because it is a unique identifier for each individual and does not provide any predictive value for determining risk level. Including it in the model could lead to overfitting or noise, as it simply identifies a record rather than describing any meaningful behavior or financial attribute"
   ]
  },
  {
   "cell_type": "markdown",
   "id": "0fe31a1b",
   "metadata": {},
   "source": [
    "# Train Test Split"
   ]
  },
  {
   "cell_type": "code",
   "execution_count": null,
   "id": "2915fca9",
   "metadata": {},
   "outputs": [],
   "source": [
    "## Create training and test sets\n",
    "SEED = 42\n",
    "X_train,X_test,y_train,y_test =train_test_split(X,y,test_size=0.3,random_state = SEED)"
   ]
  },
  {
   "cell_type": "code",
   "execution_count": null,
   "id": "ab012d16",
   "metadata": {},
   "outputs": [],
   "source": [
    "X_train.shape ,X_test.shape"
   ]
  },
  {
   "cell_type": "markdown",
   "id": "44d60f05",
   "metadata": {},
   "source": [
    "## Encode categorical data as numbers\n",
    "\n",
    "Since all of our data  has some  categorical columns , we need to encode them as numbers using sklearn's `preprocessing` module  `OneHotEncoder`"
   ]
  },
  {
   "cell_type": "code",
   "execution_count": null,
   "id": "b64dcc94",
   "metadata": {},
   "outputs": [],
   "source": [
    "# Define features explicitly based on your columns\n",
    "numeric_features = ['Revenue', 'Expenses', 'Tax_Liability', 'Tax_Paid', 'Late_Filings',\n",
    "                    'Compliance_Violations', 'Profit', 'Tax_Compliance_Ratio', 'Audit_Findings', 'Audit_to_Tax_Ratio']\n",
    "\n",
    "categorical_features = ['Industry']  \n",
    "\n",
    "\n",
    "# One-hot encode categorical features in X_train\n",
    "ohe = OneHotEncoder(drop='first', sparse=False)\n",
    "X_train_ohe = ohe.fit_transform(X_train[categorical_features])\n",
    "ohe_df = pd.DataFrame(X_train_ohe, columns=ohe.get_feature_names(categorical_features), index=X_train.index)\n",
    "\n",
    "# Scale numeric features in X_train\n",
    "scaler = StandardScaler()\n",
    "X_train_num_scaled = scaler.fit_transform(X_train[numeric_features])\n",
    "num_df = pd.DataFrame(X_train_num_scaled, columns=numeric_features, index=X_train.index)\n",
    "\n",
    "# Combine numeric and categorical features for X_train\n",
    "X_train_processed = pd.concat([num_df, ohe_df], axis=1)\n",
    "\n",
    "# Show resulting DataFrame after preprocessing\n",
    "X_train_processed.head()\n"
   ]
  },
  {
   "cell_type": "markdown",
   "id": "d1509858",
   "metadata": {},
   "source": [
    "### Applying SMOTE after preprocessing to balance training data"
   ]
  },
  {
   "cell_type": "code",
   "execution_count": null,
   "id": "4118040e",
   "metadata": {},
   "outputs": [],
   "source": [
    "# Apply SMOTE after preprocessing to balance training data\n",
    "smote = SMOTE(random_state=42)\n",
    "X_train_smote, y_train_smote = smote.fit_resample(X_train_processed, y_train)\n",
    "\n"
   ]
  },
  {
   "cell_type": "markdown",
   "id": "e037ba51",
   "metadata": {},
   "source": [
    "Let's check the class distribution before and after applying SMOTE to see if the data is balanced after "
   ]
  },
  {
   "cell_type": "code",
   "execution_count": null,
   "id": "2b1a2416",
   "metadata": {},
   "outputs": [],
   "source": [
    "# check class distribution before and after\n",
    "from collections import Counter\n",
    "print(\"Before SMOTE:\", Counter(y_train))\n",
    "print(\"After SMOTE:\", Counter(y_train_smote))"
   ]
  },
  {
   "cell_type": "markdown",
   "id": "acc80908",
   "metadata": {},
   "source": [
    "###  Preprocess X_test using fitted transformers"
   ]
  },
  {
   "cell_type": "code",
   "execution_count": null,
   "id": "e09589fc",
   "metadata": {},
   "outputs": [],
   "source": [
    "# Preprocess X_test using fitted transformers\n",
    "X_test_ohe = ohe.transform(X_test[categorical_features])\n",
    "\n",
    "# Create DataFrame with proper column names for X_test\n",
    "ohe_test_df = pd.DataFrame(X_test_ohe, columns=ohe.get_feature_names(categorical_features), index=X_test.index)\n",
    "\n",
    "# Scale numeric features in X_test using the fitted scaler\n",
    "X_test_num_scaled = scaler.transform(X_test[numeric_features])\n",
    "\n",
    "# Convert scaled numeric features back to DataFrame\n",
    "num_test_df = pd.DataFrame(X_test_num_scaled, columns=numeric_features, index=X_test.index)\n",
    "\n",
    "# Combine scaled numeric features and one-hot encoded categorical features for X_test\n",
    "X_test_processed = pd.concat([num_test_df, ohe_test_df], axis=1)\n",
    "# Show resulting DataFrame after preprocessing X_test\n",
    "X_test_processed.head()\n"
   ]
  },
  {
   "cell_type": "markdown",
   "id": "60c50668",
   "metadata": {},
   "source": [
    "# MODELLING"
   ]
  },
  {
   "cell_type": "markdown",
   "id": "65574a8f",
   "metadata": {},
   "source": [
    "## MODEL 1:LOGISTIC MODEL(Baseline model)"
   ]
  },
  {
   "cell_type": "code",
   "execution_count": null,
   "id": "5b97dccb",
   "metadata": {},
   "outputs": [],
   "source": [
    "logreg = LogisticRegression(max_iter=1000)\n",
    "logreg.fit(X_train_smote, y_train_smote)"
   ]
  },
  {
   "cell_type": "code",
   "execution_count": null,
   "id": "180e8f28",
   "metadata": {},
   "outputs": [],
   "source": [
    "# Make predictions for the test data using your preprocessed X_test\n",
    "y_pred = logreg.predict(X_test_processed)\n",
    "\n",
    "# Calculate accuracy\n",
    "print('Logistic Regression Accuracy:', accuracy_score(y_test, y_pred))\n",
    "\n",
    "# Compute confusion matrix\n",
    "cm = confusion_matrix(y_test, y_pred)\n",
    "\n",
    "# Display confusion matrix with labels from your classifier classes_\n",
    "disp = ConfusionMatrixDisplay(confusion_matrix=cm, display_labels=logreg.classes_)\n",
    "\n",
    "# Plot with customizations\n",
    "fig, ax = plt.subplots()\n",
    "disp.plot(cmap=plt.cm.coolwarm, ax=ax)\n",
    "ax.grid(False) \n",
    "plt.show()"
   ]
  },
  {
   "cell_type": "code",
   "execution_count": null,
   "id": "39eeb369",
   "metadata": {},
   "outputs": [],
   "source": [
    "print(\"Logistic Regression Classification Report\\n\\n\", classification_report(y_test, y_pred))"
   ]
  },
  {
   "cell_type": "markdown",
   "id": "697f2c3e",
   "metadata": {},
   "source": [
    "## Compute ROC & AUC "
   ]
  },
  {
   "cell_type": "code",
   "execution_count": null,
   "id": "48b21506",
   "metadata": {},
   "outputs": [],
   "source": [
    "#roc and auc\n",
    "\n",
    "fpr,tpr,thresholds = roc_curve(y_test,y_pred)\n",
    "log_roc_auc = auc(fpr,tpr)\n",
    "print(\"Logistic roc_auc:\",log_roc_auc)"
   ]
  },
  {
   "cell_type": "markdown",
   "id": "63751c9b",
   "metadata": {},
   "source": [
    "## Plot ROC CURVE"
   ]
  },
  {
   "cell_type": "code",
   "execution_count": null,
   "id": "8cdb3d14",
   "metadata": {},
   "outputs": [],
   "source": [
    "plt.figure(figsize=(8,5))\n",
    "lw =2\n",
    "plt.plot(fpr, tpr, label=f'Logistic regression (log_AUC = {log_roc_auc:.2f})',color =\"maroon\")\n",
    "plt.plot([0, 1], [0, 1],lw =lw,ls ='--',color =\"Blue\")\n",
    "plt.xlabel(\"False Positive Rate\")\n",
    "plt.ylabel(\"True Positive Rate\")\n",
    "plt.title(\"ROC Curve\")\n",
    "plt.legend()\n",
    "plt.tight_layout()\n",
    "plt.show()"
   ]
  },
  {
   "cell_type": "markdown",
   "id": "9e9b70d2",
   "metadata": {},
   "source": [
    "## MODEL 2:UNTUNED DECISION TREE MODEL"
   ]
  },
  {
   "cell_type": "markdown",
   "id": "96632676",
   "metadata": {},
   "source": [
    "## Train the classifier and make predictions"
   ]
  },
  {
   "cell_type": "code",
   "execution_count": null,
   "id": "36195092",
   "metadata": {},
   "outputs": [],
   "source": [
    "# Create the classifier, fit it on the training data and make predictions on the test set\n",
    "\n",
    "Untuned_clf = DecisionTreeClassifier(random_state =SEED)\n",
    "Untuned_clf.fit(X_train_smote, y_train_smote)"
   ]
  },
  {
   "cell_type": "code",
   "execution_count": null,
   "id": "5a71c64c",
   "metadata": {},
   "outputs": [],
   "source": [
    "# predictions\n",
    "y_pred_1=Untuned_clf.predict(X_test_processed)\n",
    "\n",
    "# Calculate accuracy\n",
    "print('Untuned_tree_Accuracy:', accuracy_score(y_test, y_pred_1))\n",
    "\n",
    "# Compute confusion matrix\n",
    "cm = confusion_matrix(y_test, y_pred_1)\n",
    "\n",
    "# Display confusion matrix with labels from your classifier classes_\n",
    "disp = ConfusionMatrixDisplay(confusion_matrix=cm, display_labels=[0,1])\n",
    "\n",
    "# Plot with customizations\n",
    "fig, ax = plt.subplots()\n",
    "disp.plot(cmap=plt.cm.coolwarm, ax=ax)\n",
    "ax.grid(False) \n",
    "plt.show()"
   ]
  },
  {
   "cell_type": "code",
   "execution_count": null,
   "id": "ea29a5e6",
   "metadata": {},
   "outputs": [],
   "source": [
    "print(\"Untuned Decision tree Classification Report\\n\\n\", classification_report(y_test, y_pred_1))\n"
   ]
  },
  {
   "cell_type": "code",
   "execution_count": null,
   "id": "899a5aed",
   "metadata": {},
   "outputs": [],
   "source": [
    "#roc and auc\n",
    "\n",
    "fpr,tpr,thresholds = roc_curve(y_test,y_pred_1)\n",
    "tree1_roc_auc = auc(fpr,tpr)\n",
    "print(\"Untuned Tree roc auc:\",tree1_roc_auc)"
   ]
  },
  {
   "cell_type": "markdown",
   "id": "daba6b15",
   "metadata": {},
   "source": [
    "## Plot ROC CURVE"
   ]
  },
  {
   "cell_type": "code",
   "execution_count": null,
   "id": "1c5a3e87",
   "metadata": {},
   "outputs": [],
   "source": [
    "plt.figure(figsize=(8,5))\n",
    "lw =2\n",
    "plt.plot(fpr, tpr, label=f'Untuned Decision Tree (Tree_AUC = {tree1_roc_auc:.2f})',color =\"maroon\")\n",
    "plt.plot([0, 1], [0, 1],lw =lw,ls ='--',color =\"Blue\")\n",
    "plt.xlabel(\"False Positive Rate\")\n",
    "plt.ylabel(\"True Positive Rate\")\n",
    "plt.title(\"ROC Curve\")\n",
    "plt.legend()\n",
    "plt.tight_layout()\n",
    "plt.show()"
   ]
  },
  {
   "cell_type": "markdown",
   "id": "fbf5c117",
   "metadata": {},
   "source": [
    "## Plot the decision tree\n",
    "Let's see what rules the tree learned by plotting this decision tree, using matplotlib and sklearn's plot_tree function"
   ]
  },
  {
   "cell_type": "code",
   "execution_count": null,
   "id": "cc7bd254",
   "metadata": {},
   "outputs": [],
   "source": [
    "fig, axes = plt.subplots(nrows = 1,ncols = 1, figsize = (3,3), dpi=300)\n",
    "tree.plot_tree(Untuned_clf,\n",
    "          feature_names = X_train_smote.columns,\n",
    "          class_names=np.unique(y).astype('str'),\n",
    "          filled = True)\n",
    "plt.show()\n",
    "print(\"Tree depth:\", Untuned_clf.get_depth())\n",
    "print(\"Number of leaves:\", Untuned_clf.get_n_leaves())"
   ]
  },
  {
   "cell_type": "markdown",
   "id": "40d19d87",
   "metadata": {},
   "source": [
    "## MODEL 3:TUNED DECISION TREE MODEL"
   ]
  },
  {
   "cell_type": "markdown",
   "id": "ca806d2d",
   "metadata": {},
   "source": [
    "## ⟬ A ⟭ Re-grow the tree using entropy\n",
    "Let's change the default splitting criterion from Gini impurity to entropy and re-grow the decision tree"
   ]
  },
  {
   "cell_type": "code",
   "execution_count": null,
   "id": "56c49fda",
   "metadata": {},
   "outputs": [],
   "source": [
    "# Instantiate and fit a DecisionTreeClassifier\n",
    "Tuned_clf = DecisionTreeClassifier(criterion = 'entropy',random_state=SEED)\n",
    "Tuned_clf.fit(X_train_smote,y_train_smote)"
   ]
  },
  {
   "cell_type": "markdown",
   "id": "09847a13",
   "metadata": {},
   "source": [
    "## Make predictions\n"
   ]
  },
  {
   "cell_type": "code",
   "execution_count": null,
   "id": "a92d22d0",
   "metadata": {},
   "outputs": [],
   "source": [
    "# predictions\n",
    "y_pred_2=Tuned_clf.predict(X_test_processed)\n",
    "\n",
    "# Calculate accuracy\n",
    "print('Untuned_tree_Accuracy:', accuracy_score(y_test, y_pred_2))\n",
    "\n",
    "# Compute confusion matrix\n",
    "cm = confusion_matrix(y_test, y_pred_2)\n",
    "\n",
    "# Display confusion matrix with labels from your classifier classes_\n",
    "disp = ConfusionMatrixDisplay(confusion_matrix=cm, display_labels=[0,1])\n",
    "\n",
    "# Plot with customizations\n",
    "fig, ax = plt.subplots()\n",
    "disp.plot(cmap=plt.cm.coolwarm, ax=ax)\n",
    "ax.grid(False) \n",
    "plt.show()"
   ]
  },
  {
   "cell_type": "code",
   "execution_count": null,
   "id": "aec418a3",
   "metadata": {},
   "outputs": [],
   "source": [
    "print(\"Tuned Decision tree Classification Report\\n\\n\", classification_report(y_test, y_pred_2))"
   ]
  },
  {
   "cell_type": "markdown",
   "id": "ae65800c",
   "metadata": {},
   "source": [
    "# ROC & AUC"
   ]
  },
  {
   "cell_type": "code",
   "execution_count": null,
   "id": "319f3720",
   "metadata": {},
   "outputs": [],
   "source": [
    "#roc and auc\n",
    "\n",
    "fpr,tpr,thresholds = roc_curve(y_test,y_pred_2)\n",
    "tree2_roc_auc = auc(fpr,tpr)\n",
    "print(\"Tuned Tree roc_auc:\",tree2_roc_auc)"
   ]
  },
  {
   "cell_type": "markdown",
   "id": "5535546a",
   "metadata": {
    "vscode": {
     "languageId": "bat"
    }
   },
   "source": [
    "## Plot ROC CURVE"
   ]
  },
  {
   "cell_type": "code",
   "execution_count": null,
   "id": "69471f22",
   "metadata": {},
   "outputs": [],
   "source": [
    "plt.figure(figsize=(8,5))\n",
    "lw =2\n",
    "plt.plot(fpr, tpr, label=f'Tuned Decision Tree (Tree_AUC = {tree2_roc_auc:.2f})',color =\"maroon\")\n",
    "plt.plot([0, 1], [0, 1],lw =lw,ls ='--',color =\"Blue\")\n",
    "plt.xlabel(\"False Positive Rate\")\n",
    "plt.ylabel(\"True Positive Rate\")\n",
    "plt.title(\"ROC Curve\")\n",
    "plt.legend()\n",
    "plt.tight_layout()\n",
    "plt.show()"
   ]
  },
  {
   "cell_type": "markdown",
   "id": "74c9ef0a",
   "metadata": {},
   "source": [
    "# Plot and show decision tree"
   ]
  },
  {
   "cell_type": "code",
   "execution_count": null,
   "id": "bd67e9b1",
   "metadata": {},
   "outputs": [],
   "source": [
    "fig, axes = plt.subplots(nrows = 1,ncols = 1, figsize = (3,3), dpi=300)\n",
    "tree.plot_tree(Tuned_clf,\n",
    "          feature_names = X_train_smote.columns,\n",
    "          class_names=np.unique(y).astype('str'),\n",
    "          filled = True)\n",
    "plt.show()\n",
    "print(\"Tree depth:\", Tuned_clf.get_depth())\n",
    "print(\"Number of leaves:\", Tuned_clf.get_n_leaves())"
   ]
  },
  {
   "cell_type": "markdown",
   "id": "fea84692",
   "metadata": {},
   "source": [
    "## ⟬ B ⟭ Hyperparameter Tuning and Pruning in Decision Trees\n"
   ]
  },
  {
   "cell_type": "markdown",
   "id": "134e003e",
   "metadata": {},
   "source": [
    "- Since Decision trees are prone to overfitting ,effective pruning can reduce this likelihood"
   ]
  },
  {
   "cell_type": "markdown",
   "id": "76ebfb9f",
   "metadata": {},
   "source": [
    "### ⟦ 1 ⟧ Manual evaluation of the optimal Hyperparameters"
   ]
  },
  {
   "cell_type": "markdown",
   "id": "7990033f",
   "metadata": {},
   "source": [
    "## 1.MAX DEPTH"
   ]
  },
  {
   "cell_type": "code",
   "execution_count": null,
   "id": "6b32a6bc",
   "metadata": {},
   "outputs": [],
   "source": [
    "depths =range(1,33)\n",
    "train_auc=[]\n",
    "test_auc = []\n",
    "\n",
    "for d in depths:\n",
    "    clf = DecisionTreeClassifier(max_depth = d, criterion='entropy', random_state = SEED)\n",
    "    clf.fit(X_train_smote, y_train_smote)\n",
    "\n",
    "    y_train_pred = clf.predict_proba(X_train_smote)[:,1]\n",
    "    y_test_pred = clf.predict_proba(X_test_processed)[:,1]\n",
    "\n",
    "    train_auc.append(auc(*roc_curve(y_train_smote, y_train_pred)[:2]))# use the fpr and tpr and not the threshold\n",
    "    test_auc.append(auc(*roc_curve(y_test, y_test_pred)[:2]))\n",
    "\n",
    "plt.figure(figsize=(7, 4))\n",
    "plt.plot(depths, train_auc, label=\"Train AUC\")\n",
    "plt.plot(depths, test_auc, label=\"Test AUC\")\n",
    "plt.xlabel(\"Tree Depth\")\n",
    "plt.ylabel(\"AUC Score\")\n",
    "plt.title(\"AUC vs. Tree Depth (Pruning)\")\n",
    "plt.legend()\n",
    "plt.tight_layout()\n",
    "plt.show()"
   ]
  },
  {
   "cell_type": "markdown",
   "id": "70ded7df",
   "metadata": {},
   "source": [
    "Maximum depth = 4"
   ]
  },
  {
   "cell_type": "markdown",
   "id": "85a20722",
   "metadata": {},
   "source": [
    "## 2. Minimum sample split"
   ]
  },
  {
   "cell_type": "code",
   "execution_count": null,
   "id": "e0a8196e",
   "metadata": {},
   "outputs": [],
   "source": [
    "#minimum_splits : minimum number of samples needed to split an internal node. lets test values from 0.1 to 1.0.\n",
    "maximum_splits = np.arange(0.1, 1.1, 0.1)\n",
    "train_auc = []\n",
    "test_auc = []\n",
    "\n",
    "for s in maximum_splits:\n",
    "    clf = DecisionTreeClassifier(min_samples_split=s, criterion='entropy', random_state=SEED)\n",
    "    clf.fit(X_train_smote, y_train_smote)\n",
    "\n",
    "    y_train_pred = clf.predict_proba(X_train_smote)[:, 1]\n",
    "    y_test_pred = clf.predict_proba(X_test_processed)[:, 1]\n",
    "    \n",
    "    train_auc.append(auc(*roc_curve(y_train_smote, y_train_pred)[:2]))\n",
    "    test_auc.append(auc(*roc_curve(y_test, y_test_pred)[:2]))\n",
    "\n",
    "# Plot\n",
    "plt.figure(figsize=(7, 4))\n",
    "plt.plot(maximum_splits, train_auc, label=\"Train AUC\")\n",
    "plt.plot(maximum_splits, test_auc, label=\"Test AUC\")\n",
    "plt.xlabel(\"min_samples_split (Fraction)\")\n",
    "plt.ylabel(\"AUC Score\")\n",
    "plt.title(\"AUC vs. min_samples_split\")\n",
    "plt.legend()\n",
    "plt.tight_layout()\n",
    "plt.show()"
   ]
  },
  {
   "cell_type": "markdown",
   "id": "e5a3a17d",
   "metadata": {},
   "source": [
    "Minimum sample split = 0.5"
   ]
  },
  {
   "cell_type": "markdown",
   "id": "a7901f34",
   "metadata": {},
   "source": [
    "# 3. Minimum sample leaf"
   ]
  },
  {
   "cell_type": "code",
   "execution_count": null,
   "id": "fecc296d",
   "metadata": {},
   "outputs": [],
   "source": [
    "#min_samples_leaf :Controls the minimum number of samples required to be at a leaf node\n",
    "\n",
    "leafs = np.arange(0.1, 0.6, 0.1)\n",
    "train_auc = []\n",
    "test_auc = []\n",
    "\n",
    "for l in leafs:\n",
    "    clf = DecisionTreeClassifier(min_samples_leaf=l, criterion='entropy', random_state=SEED)\n",
    "    clf.fit(X_train_smote, y_train_smote)\n",
    "\n",
    "    y_train_pred = clf.predict_proba(X_train_smote)[:, 1]\n",
    "    y_test_pred = clf.predict_proba(X_test_processed)[:, 1]\n",
    "    \n",
    "    train_auc.append(auc(*roc_curve(y_train_smote, y_train_pred)[:2]))\n",
    "    test_auc.append(auc(*roc_curve(y_test, y_test_pred)[:2]))\n",
    "\n",
    "plt.figure(figsize=(7, 4))\n",
    "plt.plot(leafs, train_auc, label=\"Train AUC\")\n",
    "plt.plot(leafs, test_auc, label=\"Test AUC\")\n",
    "plt.xlabel(\"min_samples_leaf (Fraction)\")\n",
    "plt.ylabel(\"AUC Score\")\n",
    "plt.title(\"AUC vs. min_samples_leaf\")\n",
    "plt.legend()\n",
    "plt.tight_layout()\n",
    "plt.show()"
   ]
  },
  {
   "cell_type": "markdown",
   "id": "2a07d2eb",
   "metadata": {},
   "source": [
    "Minimum sample leaf = 0.2"
   ]
  },
  {
   "cell_type": "markdown",
   "id": "9e7a658d",
   "metadata": {},
   "source": [
    "# 4.Maximum features"
   ]
  },
  {
   "cell_type": "code",
   "execution_count": null,
   "id": "8bdb7a6b",
   "metadata": {},
   "outputs": [],
   "source": [
    "max_features = range(1, X.shape[1] + 1)\n",
    "train_auc = []\n",
    "test_auc = []\n",
    "\n",
    "for f in max_features:\n",
    "    clf = DecisionTreeClassifier(max_features=f, criterion='entropy', random_state=SEED)\n",
    "    clf.fit(X_train_smote, y_train_smote)\n",
    "\n",
    "    y_train_pred = clf.predict_proba(X_train_smote)[:, 1]\n",
    "    y_test_pred = clf.predict_proba(X_test_processed)[:, 1]\n",
    "    \n",
    "    train_auc.append(auc(*roc_curve(y_train_smote, y_train_pred)[:2]))\n",
    "    test_auc.append(auc(*roc_curve(y_test, y_test_pred)[:2]))\n",
    "\n",
    "# Plot\n",
    "plt.figure(figsize=(7, 4))\n",
    "plt.plot(max_features, train_auc, label=\"Train AUC\")\n",
    "plt.plot(max_features, test_auc, label=\"Test AUC\")\n",
    "plt.xlabel(\"max_features\")\n",
    "plt.ylabel(\"AUC Score\")\n",
    "plt.title(\"AUC vs. max_features\")\n",
    "plt.legend()\n",
    "plt.tight_layout()\n",
    "plt.show()"
   ]
  },
  {
   "cell_type": "markdown",
   "id": "c17afbce",
   "metadata": {},
   "source": [
    "Maximum features = 4"
   ]
  },
  {
   "cell_type": "markdown",
   "id": "20ea2410",
   "metadata": {},
   "source": [
    "# Final pruned Decision Tree"
   ]
  },
  {
   "cell_type": "code",
   "execution_count": null,
   "id": "aa41578e",
   "metadata": {},
   "outputs": [],
   "source": [
    "dt_pruning1 = DecisionTreeClassifier(\n",
    "    criterion='entropy',\n",
    "    max_depth= 4,\n",
    "    min_samples_split=0.5,\n",
    "    min_samples_leaf=0.2,\n",
    "    max_features= 4,\n",
    "    \n",
    "    random_state=SEED)\n",
    "\n",
    "dt_pruning1.fit(X_train_smote, y_train_smote)\n",
    "\n",
    "y_pred_pruned = dt_pruning1.predict_proba(X_test_processed)[:, 1]\n",
    "fpr_opt, tpr_opt,thresholds = roc_curve(y_test, y_pred_pruned)\n",
    "roc_auc_pruned = auc(fpr_opt, tpr_opt)\n",
    "\n",
    "print(\"Manually pruned roc_auc:\",roc_auc_pruned)\n",
    "\n",
    "\n",
    "# Plotting \n",
    "plt.figure(figsize=(8, 6))\n",
    "lw =2\n",
    "plt.plot(fpr, tpr, label=f'Vanilla (AUC = {tree1_roc_auc:.2f})', linestyle='--',color =\"red\")\n",
    "plt.plot(fpr_opt, tpr_opt, label=f'Optimized (AUC = {roc_auc_pruned:.2f})', lw =lw,color =\"purple\")\n",
    "plt.plot([0, 1], [0, 1], 'k--',color =\"blue\")\n",
    "plt.xlabel(\"False Positive Rate\")\n",
    "plt.ylabel(\"True Positive Rate\")\n",
    "plt.title(\"ROC Curve Comparison\")\n",
    "plt.legend()\n",
    "plt.tight_layout()\n",
    "plt.show()\n"
   ]
  },
  {
   "cell_type": "markdown",
   "id": "7cf14ff3",
   "metadata": {},
   "source": [
    "### ⟦ 2 ⟧ Use GridSearchCV"
   ]
  },
  {
   "cell_type": "code",
   "execution_count": null,
   "id": "d1bdff13",
   "metadata": {},
   "outputs": [],
   "source": [
    "# Define your classifier with fixed random state for reproducibility\n",
    "Untuned_clf= DecisionTreeClassifier(random_state=SEED)\n",
    "\n",
    "# Define a parameter grid with multiple hyperparameters to tune\n",
    "param_grid = {\n",
    "    'max_depth': range(1, 21),                 \n",
    "    'min_samples_split': [2, 5, 10],           \n",
    "    'min_samples_leaf': [1, 2, 4],              \n",
    "    'max_features': [None, 'sqrt', 'log2']     \n",
    "}\n",
    "\n",
    "# Set up GridSearchCV with 5-fold cross-validation and ROC AUC scoring\n",
    "grid_search = GridSearchCV(estimator=Untuned_clf, param_grid=param_grid, cv=5, scoring='roc_auc', n_jobs=-1)\n",
    "\n",
    "# Fit the grid search on your training data\n",
    "grid_search.fit(X_train_smote, y_train_smote)\n",
    "\n",
    "# Print the best combination of hyperparameters found\n",
    "print(\"Best parameters found:\", grid_search.best_params_)\n",
    "\n",
    "# Get the best model with tuned hyperparameters\n",
    "best_clf = grid_search.best_estimator_\n"
   ]
  },
  {
   "cell_type": "code",
   "execution_count": null,
   "id": "f40a0567",
   "metadata": {},
   "outputs": [],
   "source": [
    "dt_pruning2 = DecisionTreeClassifier(\n",
    "    criterion='entropy',\n",
    "    max_depth=11,                  \n",
    "    min_samples_split=10,          \n",
    "    min_samples_leaf=4,            \n",
    "    max_features='sqrt',           \n",
    "    random_state=SEED\n",
    ")\n",
    "\n",
    "dt_pruning2.fit(X_train_smote, y_train_smote)\n",
    "\n",
    "# Predict probabilities for ROC curve (positive class probabilities)\n",
    "y_pred_pruned = dt_pruning2.predict_proba(X_test_processed)[:, 1]\n",
    "\n",
    "# Compute ROC curve and AUC\n",
    "fpr_opt, tpr_opt, thresholds = roc_curve(y_test, y_pred_pruned)\n",
    "roc_auc_pruned = auc(fpr_opt, tpr_opt)\n",
    "print(\"Final Pruned roc_auc:\",roc_auc_pruned)\n",
    "\n",
    "# Plotting \n",
    "plt.figure(figsize=(8, 6))\n",
    "lw =2\n",
    "plt.plot(fpr, tpr, label=f'Vanilla (AUC = {tree1_roc_auc:.2f})', linestyle='--',color =\"red\")\n",
    "plt.plot(fpr_opt, tpr_opt, label=f'Optimized (AUC = {roc_auc_pruned:.2f})', lw =lw,color =\"purple\")\n",
    "plt.plot([0, 1], [0, 1], 'k--',color =\"blue\")\n",
    "plt.xlabel(\"False Positive Rate\")\n",
    "plt.ylabel(\"True Positive Rate\")\n",
    "plt.title(\"ROC Curve Comparison\")\n",
    "plt.legend()\n",
    "plt.tight_layout()\n",
    "plt.show()\n"
   ]
  },
  {
   "cell_type": "markdown",
   "id": "f590f9f6",
   "metadata": {},
   "source": [
    "# MODEL  PERFORMANCE EVALUATION "
   ]
  },
  {
   "cell_type": "code",
   "execution_count": null,
   "id": "b344bf3b",
   "metadata": {},
   "outputs": [],
   "source": [
    "\n",
    "def evaluate_model_performance(model, X_test, y_test, model_name=\"Model\"):\n",
    "    \"\"\"\n",
    "    Evaluates a classification model on test data and prints performance metrics:\n",
    "    Accuracy, Classification Report, and ROC AUC (no plots).\n",
    "    \"\"\"\n",
    "    # Predict class labels\n",
    "    y_pred = model.predict(X_test)\n",
    "    \n",
    "    # Predict probabilities for positive class (1)\n",
    "    if hasattr(model, \"predict_proba\"):\n",
    "        y_proba = model.predict_proba(X_test)[:, 1]\n",
    "    elif hasattr(model, \"decision_function\"):\n",
    "        y_proba = model.decision_function(X_test)\n",
    "    else:\n",
    "        y_proba = y_pred  # fallback for models without probability or decision output\n",
    "    \n",
    "    # Accuracy\n",
    "    acc = accuracy_score(y_test, y_pred)\n",
    "    print(f\"\\n{model_name} Accuracy: {acc:.4f}\")\n",
    "    \n",
    "    \n",
    "    \n",
    "    # ROC AUC\n",
    "    fpr, tpr, _ = roc_curve(y_test, y_proba)\n",
    "    roc_auc = auc(fpr, tpr)\n",
    "    print(f\"{model_name} ROC AUC: {roc_auc:.4f}\")\n"
   ]
  },
  {
   "cell_type": "code",
   "execution_count": null,
   "id": "822fc3b9",
   "metadata": {},
   "outputs": [],
   "source": [
    "evaluate_model_performance(logreg, X_test_processed, y_test, \"Logistic Regression\")\n",
    "evaluate_model_performance(Untuned_clf, X_test_processed, y_test, \"Untuned Decision Tree\")\n",
    "evaluate_model_performance(Tuned_clf, X_test_processed, y_test, \"Tuned Decision Tree\")\n",
    "evaluate_model_performance(dt_pruning1, X_test_processed, y_test, \"Manually Pruned Decision Tree\")\n",
    "evaluate_model_performance(dt_pruning2, X_test_processed, y_test, \"GridSearch cv Pruned Decision Tree\")"
   ]
  },
  {
   "cell_type": "code",
   "execution_count": null,
   "id": "7a15f523",
   "metadata": {},
   "outputs": [],
   "source": [
    "from sklearn.metrics import roc_curve, auc\n",
    "import matplotlib.pyplot as plt\n",
    "\n",
    "# List of models and names\n",
    "models = [\n",
    "    (logreg, \"Logistic Regression\"),\n",
    "    (Untuned_clf, \"Untuned Decision Tree\"),\n",
    "    (Tuned_clf, \"Tuned Decision Tree\"),\n",
    "    (dt_pruning1, \"Manually Pruned Decision Tree\"),\n",
    "    (dt_pruning2, \"GridSearch cv Pruned Decision Tree\")\n",
    "]\n",
    "\n",
    "plt.figure(figsize=(10, 7))\n",
    "\n",
    "for model, name in models:\n",
    "    # Predict probabilities\n",
    "    if hasattr(model, \"predict_proba\"):\n",
    "        y_proba = model.predict_proba(X_test_processed)[:, 1]\n",
    "    elif hasattr(model, \"decision_function\"):\n",
    "        y_proba = model.decision_function(X_test_processed)\n",
    "    else:\n",
    "        y_proba = model.predict(X_test_processed)\n",
    "\n",
    "    fpr, tpr, _ = roc_curve(y_test, y_proba)\n",
    "    roc_auc = auc(fpr, tpr)\n",
    "    plt.plot(fpr, tpr, label=f'{name} (AUC = {roc_auc:.4f})')\n",
    "\n",
    "# Plot formatting\n",
    "plt.plot([0, 1], [0, 1], 'k--', color='gray')\n",
    "plt.xlabel('False Positive Rate')\n",
    "plt.ylabel('True Positive Rate')\n",
    "plt.title('ROC Curves of All Models')\n",
    "plt.legend(loc='lower right')\n",
    "plt.grid(True)\n",
    "plt.tight_layout()\n",
    "plt.show()\n"
   ]
  },
  {
   "cell_type": "markdown",
   "id": "2d267c4c",
   "metadata": {},
   "source": [
    "### Model Evaluation Summary\n",
    "\n",
    "After evaluating all five models on the test set, here are the results:\n",
    "\n",
    "| Model                                | Accuracy | ROC AUC |\n",
    "|-------------------------------------|----------|---------|\n",
    "| **Logistic Regression**                 | 0.9176   | 0.9817  |\n",
    "| **Untuned Decision Tree**               | 0.9963   | 0.9902  |\n",
    "| **Tuned Decision Tree**                 | 0.9963   | 0.9902  |\n",
    "| **Manually Pruned Decision Tree**      | 0.9026   | 0.9647  |\n",
    "| **GridSearchCV Pruned Decision Tree**  | 0.9026   | 0.9291  |\n",
    "\n",
    "I used **SMOTE** to address class imbalance, so I consider both accuracy and ROC AUC as reliable performance metrics.\n",
    "\n",
    "- The **untuned and tuned decision trees** achieved the highest accuracy (99.63%) and strong ROC AUC (~0.9902), indicating excellent performance.\n",
    "- **Logistic Regression** had slightly lower accuracy (91.76%) but maintained a high ROC AUC (0.9817), showing good class separation.\n",
    "- **Pruned Decision Trees** showed reduced accuracy (~90%) and lower ROC AUC, suggesting that pruning may have led to underfitting.\n",
    "\n",
    "### Final Model Choice\n",
    "\n",
    "**Selected Model:** Tuned Decision Tree  \n",
    "It delivers top-tier performance and has been tuned for better generalization.\n",
    "\n",
    "**Fallback Option:** Logistic Regression  \n",
    "Chosen for its simplicity and robustness in case overfitting is detected during further validation.\n"
   ]
  },
  {
   "cell_type": "code",
   "execution_count": null,
   "id": "6edfa451",
   "metadata": {},
   "outputs": [],
   "source": []
  },
  {
   "cell_type": "markdown",
   "id": "4ec67d0f",
   "metadata": {},
   "source": [
    "## Business Recommendations\n",
    "\n",
    "1. **Adopt Advanced Ensemble Models**  \n",
    "Leverage Random Forests and Gradient Boosting techniques to improve prediction accuracy and model stability, thereby reducing risks associated with relying on a single decision tree.\n",
    "\n",
    "2. **Expand Feature Set and Data Volume**  \n",
    "Invest in acquiring additional relevant data and enriching the feature set to enhance model insights and overall performance, enabling more informed business decisions.\n",
    "\n",
    "3. **Deploy User-Friendly Applications**  \n",
    "Currently, the model exists only as a notebook. To enable business stakeholders to interact with and interpret the model outputs effectively, develop interactive web applications or dashboards that simplify access and usability.\n",
    "\n",
    "4. **Evaluate and Address Bias**  \n",
    "Continuously assess the model for fairness to ensure equitable outcomes across all user groups, protecting ethical standards and maintaining the company’s reputation.\n"
   ]
  },
  {
   "cell_type": "markdown",
   "id": "1b969878",
   "metadata": {},
   "source": []
  },
  {
   "cell_type": "markdown",
   "id": "177d2927",
   "metadata": {},
   "source": []
  }
 ],
 "metadata": {
  "kernelspec": {
   "display_name": "Python (learn-env)",
   "language": "python",
   "name": "learn-env"
  },
  "language_info": {
   "codemirror_mode": {
    "name": "ipython",
    "version": 3
   },
   "file_extension": ".py",
   "mimetype": "text/x-python",
   "name": "python",
   "nbconvert_exporter": "python",
   "pygments_lexer": "ipython3",
   "version": "3.8.5"
  }
 },
 "nbformat": 4,
 "nbformat_minor": 5
}
